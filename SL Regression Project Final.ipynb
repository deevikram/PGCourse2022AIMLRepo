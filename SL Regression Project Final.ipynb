{
 "cells": [
  {
   "cell_type": "markdown",
   "metadata": {},
   "source": [
    "# Development of effective pricing strategies for pre-owned cars"
   ]
  },
  {
   "cell_type": "markdown",
   "metadata": {},
   "source": [
    "## Introduction\n",
    "<p>Given the favorable conditions of huge demand for used cars in the Indian Market, there is potential for Cars4U, as a tech start up, to capture and establish itself in the used cars market.The used car sales exceeding new car sales in 2018-2019 (4 million to 3.6 million) is evidence of a changing market and a huge opportunity.</p>\n",
    "<p> The pricing models and supply is vastly different for new cars (where new cars are managed by OEMs - Original Equipment Manufacturer) and for used cars. The new cars pricing model is fairly deterministic, while pricing for used cars can be uncertain.</p>\n",
    "<p> Thus, it becomes imperative to use existing data to develop a pricing model so that strategies for effective pricing can be developed throughout the year.</p>\n",
    "\n",
    "### Objective\n",
    "<ol>\n",
    "    <li>Develop strategies to effectively predict the prices of used cars</li>\n",
    "    <li>Insights and recommendations for increasing sales of used cars</li>"
   ]
  },
  {
   "cell_type": "markdown",
   "metadata": {},
   "source": [
    "### Variables/Data Information\n",
    "<p>S.No. : Serial Number<br>\n",
    "Name : Name of the car which includes Brand name and Model name<br>\n",
    "Location : The location in which the car is being sold or is available for purchase Cities<br>\n",
    "Year : Manufacturing year of the car<br>\n",
    "Kilometers_Driven : The total kilometers driven in the car by the previous owner(s) in KM.<br>\n",
    "Fuel_Type : The type of fuel used by the car. (Petrol, Diesel, Electric, CNG, LPG)<br>\n",
    "Transmission : The type of transmission used by the car. (Automatic / Manual)<br>\n",
    "Owner_Type : Type of ownership<br>\n",
    "Mileage : The standard mileage offered by the car company in kmpl or km/kg<br>\n",
    "Engine : The displacement volume of the engine in CC.<br>\n",
    "Power : The maximum power of the engine in bhp.<br>\n",
    "Seats : The number of seats in the car.<br>\n",
    "New_Price : The price of a new car of the same model in INR Lakhs.(1 Lakh = 100, 000)<br>\n",
    "Price : The price of the used car in INR Lakhs (1 Lakh = 100, 000)</p>"
   ]
  },
  {
   "cell_type": "markdown",
   "metadata": {},
   "source": [
    "### The analysis below has the following sections:\n",
    "<ol>\n",
    "    <li> Loading and importing packages </li>\n",
    "    <li> Removing warnings from python notebooks </li>\n",
    "    <li> Loading the dataset</li>\n",
    "    <li> Preview of the dataset </li>\n",
    "    <li> Data preprocessing - shape, datatypes, missing values,transformations </li>\n",
    "    <li> Descriptive statistics for the dataset </li>\n",
    "    <li> Univariate, bivariate, and multivariate analysis for the dataset (observations are under each cell)</li>\n",
    "    <li> Regression model for pricing </li>\n",
    "    <li> Insights and strategies gained from the model </li>\n",
    "    <li> Recommendations based on the analysis </li>\n",
    "    </ol>"
   ]
  },
  {
   "cell_type": "markdown",
   "metadata": {},
   "source": [
    "### 1. Loading and importing packages"
   ]
  },
  {
   "cell_type": "code",
   "execution_count": 1,
   "metadata": {},
   "outputs": [],
   "source": [
    "#The packages that will be used for this project include: numpy, pandas, matplotlib, seaborn, sklearn\n",
    "# Import the necessary packages\n",
    "import numpy as np\n",
    "import pandas as pd\n",
    "import matplotlib.pyplot as plt\n",
    "import seaborn as sns\n",
    "sns.set(color_codes=True) # For background of the graphs\n",
    "%matplotlib inline\n",
    "\n",
    "#For previewing the data, the columns can be set to limit of None and 100 for the rows. \n",
    "pd.set_option('display.max_columns',None)\n",
    "pd.set_option('display.max_rows',100)\n",
    "\n",
    "#Below is for regression model metrics and splitting the observations for train/test\n",
    "from sklearn.model_selection import train_test_split\n",
    "from sklearn.metrics import mean_squared_error\n",
    "from sklearn.metrics import mean_absolute_error\n",
    "from sklearn.metrics import r2_score"
   ]
  },
  {
   "cell_type": "markdown",
   "metadata": {},
   "source": [
    "### 2. Removing warnings from python notebook"
   ]
  },
  {
   "cell_type": "code",
   "execution_count": 2,
   "metadata": {},
   "outputs": [],
   "source": [
    "#Removing warnings from the notebook\n",
    "import warnings\n",
    "warnings.filterwarnings('ignore')"
   ]
  },
  {
   "cell_type": "markdown",
   "metadata": {},
   "source": [
    "### 3. Loading the dataset"
   ]
  },
  {
   "cell_type": "code",
   "execution_count": 3,
   "metadata": {},
   "outputs": [
    {
     "name": "stdout",
     "output_type": "stream",
     "text": [
      "The dataframe has 7253 rows and 13 columns.\n"
     ]
    }
   ],
   "source": [
    "#The dataset is stored in a CSV file and we want to read it into a pandas dataframe\n",
    "usedCarData= pd.read_csv('used_cars_data.csv',index_col=0) \n",
    "#We are using index_col = 0, otherwise the dataframe had the first column as an index, and then\"S.No.\" as an index again. \n",
    "#Using index_col = 0 will make the dataframe have \"S.No.\" as the first column. \n",
    "print(f'The dataframe has {usedCarData.shape[0]} rows and {usedCarData.shape[1]} columns.')\n",
    "#Using f-string to print the statement for performance reasons"
   ]
  },
  {
   "cell_type": "markdown",
   "metadata": {},
   "source": [
    "### 4. Previewing the dataset"
   ]
  },
  {
   "cell_type": "code",
   "execution_count": 4,
   "metadata": {},
   "outputs": [
    {
     "data": {
      "text/html": [
       "<div>\n",
       "<style scoped>\n",
       "    .dataframe tbody tr th:only-of-type {\n",
       "        vertical-align: middle;\n",
       "    }\n",
       "\n",
       "    .dataframe tbody tr th {\n",
       "        vertical-align: top;\n",
       "    }\n",
       "\n",
       "    .dataframe thead th {\n",
       "        text-align: right;\n",
       "    }\n",
       "</style>\n",
       "<table border=\"1\" class=\"dataframe\">\n",
       "  <thead>\n",
       "    <tr style=\"text-align: right;\">\n",
       "      <th></th>\n",
       "      <th>Name</th>\n",
       "      <th>Location</th>\n",
       "      <th>Year</th>\n",
       "      <th>Kilometers_Driven</th>\n",
       "      <th>Fuel_Type</th>\n",
       "      <th>Transmission</th>\n",
       "      <th>Owner_Type</th>\n",
       "      <th>Mileage</th>\n",
       "      <th>Engine</th>\n",
       "      <th>Power</th>\n",
       "      <th>Seats</th>\n",
       "      <th>New_Price</th>\n",
       "      <th>Price</th>\n",
       "    </tr>\n",
       "    <tr>\n",
       "      <th>S.No.</th>\n",
       "      <th></th>\n",
       "      <th></th>\n",
       "      <th></th>\n",
       "      <th></th>\n",
       "      <th></th>\n",
       "      <th></th>\n",
       "      <th></th>\n",
       "      <th></th>\n",
       "      <th></th>\n",
       "      <th></th>\n",
       "      <th></th>\n",
       "      <th></th>\n",
       "      <th></th>\n",
       "    </tr>\n",
       "  </thead>\n",
       "  <tbody>\n",
       "    <tr>\n",
       "      <th>0</th>\n",
       "      <td>Maruti Wagon R LXI CNG</td>\n",
       "      <td>Mumbai</td>\n",
       "      <td>2010</td>\n",
       "      <td>72000</td>\n",
       "      <td>CNG</td>\n",
       "      <td>Manual</td>\n",
       "      <td>First</td>\n",
       "      <td>26.6 km/kg</td>\n",
       "      <td>998 CC</td>\n",
       "      <td>58.16 bhp</td>\n",
       "      <td>5.0</td>\n",
       "      <td>NaN</td>\n",
       "      <td>1.75</td>\n",
       "    </tr>\n",
       "    <tr>\n",
       "      <th>1</th>\n",
       "      <td>Hyundai Creta 1.6 CRDi SX Option</td>\n",
       "      <td>Pune</td>\n",
       "      <td>2015</td>\n",
       "      <td>41000</td>\n",
       "      <td>Diesel</td>\n",
       "      <td>Manual</td>\n",
       "      <td>First</td>\n",
       "      <td>19.67 kmpl</td>\n",
       "      <td>1582 CC</td>\n",
       "      <td>126.2 bhp</td>\n",
       "      <td>5.0</td>\n",
       "      <td>NaN</td>\n",
       "      <td>12.50</td>\n",
       "    </tr>\n",
       "    <tr>\n",
       "      <th>2</th>\n",
       "      <td>Honda Jazz V</td>\n",
       "      <td>Chennai</td>\n",
       "      <td>2011</td>\n",
       "      <td>46000</td>\n",
       "      <td>Petrol</td>\n",
       "      <td>Manual</td>\n",
       "      <td>First</td>\n",
       "      <td>18.2 kmpl</td>\n",
       "      <td>1199 CC</td>\n",
       "      <td>88.7 bhp</td>\n",
       "      <td>5.0</td>\n",
       "      <td>8.61 Lakh</td>\n",
       "      <td>4.50</td>\n",
       "    </tr>\n",
       "    <tr>\n",
       "      <th>3</th>\n",
       "      <td>Maruti Ertiga VDI</td>\n",
       "      <td>Chennai</td>\n",
       "      <td>2012</td>\n",
       "      <td>87000</td>\n",
       "      <td>Diesel</td>\n",
       "      <td>Manual</td>\n",
       "      <td>First</td>\n",
       "      <td>20.77 kmpl</td>\n",
       "      <td>1248 CC</td>\n",
       "      <td>88.76 bhp</td>\n",
       "      <td>7.0</td>\n",
       "      <td>NaN</td>\n",
       "      <td>6.00</td>\n",
       "    </tr>\n",
       "    <tr>\n",
       "      <th>4</th>\n",
       "      <td>Audi A4 New 2.0 TDI Multitronic</td>\n",
       "      <td>Coimbatore</td>\n",
       "      <td>2013</td>\n",
       "      <td>40670</td>\n",
       "      <td>Diesel</td>\n",
       "      <td>Automatic</td>\n",
       "      <td>Second</td>\n",
       "      <td>15.2 kmpl</td>\n",
       "      <td>1968 CC</td>\n",
       "      <td>140.8 bhp</td>\n",
       "      <td>5.0</td>\n",
       "      <td>NaN</td>\n",
       "      <td>17.74</td>\n",
       "    </tr>\n",
       "  </tbody>\n",
       "</table>\n",
       "</div>"
      ],
      "text/plain": [
       "                                   Name    Location  Year  Kilometers_Driven  \\\n",
       "S.No.                                                                          \n",
       "0                Maruti Wagon R LXI CNG      Mumbai  2010              72000   \n",
       "1      Hyundai Creta 1.6 CRDi SX Option        Pune  2015              41000   \n",
       "2                          Honda Jazz V     Chennai  2011              46000   \n",
       "3                     Maruti Ertiga VDI     Chennai  2012              87000   \n",
       "4       Audi A4 New 2.0 TDI Multitronic  Coimbatore  2013              40670   \n",
       "\n",
       "      Fuel_Type Transmission Owner_Type     Mileage   Engine      Power  \\\n",
       "S.No.                                                                     \n",
       "0           CNG       Manual      First  26.6 km/kg   998 CC  58.16 bhp   \n",
       "1        Diesel       Manual      First  19.67 kmpl  1582 CC  126.2 bhp   \n",
       "2        Petrol       Manual      First   18.2 kmpl  1199 CC   88.7 bhp   \n",
       "3        Diesel       Manual      First  20.77 kmpl  1248 CC  88.76 bhp   \n",
       "4        Diesel    Automatic     Second   15.2 kmpl  1968 CC  140.8 bhp   \n",
       "\n",
       "       Seats  New_Price  Price  \n",
       "S.No.                           \n",
       "0        5.0        NaN   1.75  \n",
       "1        5.0        NaN  12.50  \n",
       "2        5.0  8.61 Lakh   4.50  \n",
       "3        7.0        NaN   6.00  \n",
       "4        5.0        NaN  17.74  "
      ]
     },
     "execution_count": 4,
     "metadata": {},
     "output_type": "execute_result"
    }
   ],
   "source": [
    "#Preview of the first 5 rows of the dataset\n",
    "usedCarData.head()"
   ]
  },
  {
   "cell_type": "markdown",
   "metadata": {},
   "source": [
    "### Observation\n",
    "<p> The data has 7253 rows and 13 columns. At first glance, \"NaN\" which is not a number are visible in mulitple columns and rows of the dataset,especially for 'New_Price' column. The \"Mileage\" column also has two different units - km/kg and kmpl. For purposes of this project, we shall treat km/kg and kmpl to be same (the conversion factor is approximately 1, so we are justified for this assumption. </p>"
   ]
  },
  {
   "cell_type": "code",
   "execution_count": 5,
   "metadata": {},
   "outputs": [
    {
     "data": {
      "text/html": [
       "<div>\n",
       "<style scoped>\n",
       "    .dataframe tbody tr th:only-of-type {\n",
       "        vertical-align: middle;\n",
       "    }\n",
       "\n",
       "    .dataframe tbody tr th {\n",
       "        vertical-align: top;\n",
       "    }\n",
       "\n",
       "    .dataframe thead th {\n",
       "        text-align: right;\n",
       "    }\n",
       "</style>\n",
       "<table border=\"1\" class=\"dataframe\">\n",
       "  <thead>\n",
       "    <tr style=\"text-align: right;\">\n",
       "      <th></th>\n",
       "      <th>Name</th>\n",
       "      <th>Location</th>\n",
       "      <th>Year</th>\n",
       "      <th>Kilometers_Driven</th>\n",
       "      <th>Fuel_Type</th>\n",
       "      <th>Transmission</th>\n",
       "      <th>Owner_Type</th>\n",
       "      <th>Mileage</th>\n",
       "      <th>Engine</th>\n",
       "      <th>Power</th>\n",
       "      <th>Seats</th>\n",
       "      <th>New_Price</th>\n",
       "      <th>Price</th>\n",
       "    </tr>\n",
       "    <tr>\n",
       "      <th>S.No.</th>\n",
       "      <th></th>\n",
       "      <th></th>\n",
       "      <th></th>\n",
       "      <th></th>\n",
       "      <th></th>\n",
       "      <th></th>\n",
       "      <th></th>\n",
       "      <th></th>\n",
       "      <th></th>\n",
       "      <th></th>\n",
       "      <th></th>\n",
       "      <th></th>\n",
       "      <th></th>\n",
       "    </tr>\n",
       "  </thead>\n",
       "  <tbody>\n",
       "    <tr>\n",
       "      <th>2397</th>\n",
       "      <td>Ford EcoSport 1.5 Petrol Trend</td>\n",
       "      <td>Kolkata</td>\n",
       "      <td>2016</td>\n",
       "      <td>21460</td>\n",
       "      <td>Petrol</td>\n",
       "      <td>Manual</td>\n",
       "      <td>First</td>\n",
       "      <td>17.0 kmpl</td>\n",
       "      <td>1497 CC</td>\n",
       "      <td>121.36 bhp</td>\n",
       "      <td>5.0</td>\n",
       "      <td>9.47 Lakh</td>\n",
       "      <td>6.00</td>\n",
       "    </tr>\n",
       "    <tr>\n",
       "      <th>3777</th>\n",
       "      <td>Maruti Wagon R VXI 1.2</td>\n",
       "      <td>Kochi</td>\n",
       "      <td>2015</td>\n",
       "      <td>49818</td>\n",
       "      <td>Petrol</td>\n",
       "      <td>Manual</td>\n",
       "      <td>First</td>\n",
       "      <td>21.5 kmpl</td>\n",
       "      <td>1197 CC</td>\n",
       "      <td>81.80 bhp</td>\n",
       "      <td>5.0</td>\n",
       "      <td>5.44 Lakh</td>\n",
       "      <td>4.11</td>\n",
       "    </tr>\n",
       "    <tr>\n",
       "      <th>4425</th>\n",
       "      <td>Ford Endeavour 4x2 XLT</td>\n",
       "      <td>Hyderabad</td>\n",
       "      <td>2007</td>\n",
       "      <td>130000</td>\n",
       "      <td>Diesel</td>\n",
       "      <td>Manual</td>\n",
       "      <td>First</td>\n",
       "      <td>13.1 kmpl</td>\n",
       "      <td>2499 CC</td>\n",
       "      <td>141 bhp</td>\n",
       "      <td>7.0</td>\n",
       "      <td>NaN</td>\n",
       "      <td>6.00</td>\n",
       "    </tr>\n",
       "    <tr>\n",
       "      <th>3661</th>\n",
       "      <td>Mercedes-Benz E-Class E250 CDI Avantgrade</td>\n",
       "      <td>Coimbatore</td>\n",
       "      <td>2016</td>\n",
       "      <td>39753</td>\n",
       "      <td>Diesel</td>\n",
       "      <td>Automatic</td>\n",
       "      <td>First</td>\n",
       "      <td>13.0 kmpl</td>\n",
       "      <td>2143 CC</td>\n",
       "      <td>201.1 bhp</td>\n",
       "      <td>5.0</td>\n",
       "      <td>NaN</td>\n",
       "      <td>35.28</td>\n",
       "    </tr>\n",
       "    <tr>\n",
       "      <th>4514</th>\n",
       "      <td>Hyundai Xcent 1.2 Kappa AT SX Option</td>\n",
       "      <td>Kochi</td>\n",
       "      <td>2016</td>\n",
       "      <td>45560</td>\n",
       "      <td>Petrol</td>\n",
       "      <td>Automatic</td>\n",
       "      <td>First</td>\n",
       "      <td>16.9 kmpl</td>\n",
       "      <td>1197 CC</td>\n",
       "      <td>82 bhp</td>\n",
       "      <td>5.0</td>\n",
       "      <td>NaN</td>\n",
       "      <td>6.34</td>\n",
       "    </tr>\n",
       "    <tr>\n",
       "      <th>599</th>\n",
       "      <td>Toyota Innova Crysta 2.8 ZX AT</td>\n",
       "      <td>Coimbatore</td>\n",
       "      <td>2019</td>\n",
       "      <td>40674</td>\n",
       "      <td>Diesel</td>\n",
       "      <td>Automatic</td>\n",
       "      <td>First</td>\n",
       "      <td>11.36 kmpl</td>\n",
       "      <td>2755 CC</td>\n",
       "      <td>171.5 bhp</td>\n",
       "      <td>7.0</td>\n",
       "      <td>28.05 Lakh</td>\n",
       "      <td>24.82</td>\n",
       "    </tr>\n",
       "    <tr>\n",
       "      <th>186</th>\n",
       "      <td>Mercedes-Benz E-Class E250 CDI Avantgrade</td>\n",
       "      <td>Bangalore</td>\n",
       "      <td>2014</td>\n",
       "      <td>37382</td>\n",
       "      <td>Diesel</td>\n",
       "      <td>Automatic</td>\n",
       "      <td>First</td>\n",
       "      <td>13.0 kmpl</td>\n",
       "      <td>2143 CC</td>\n",
       "      <td>201.1 bhp</td>\n",
       "      <td>5.0</td>\n",
       "      <td>NaN</td>\n",
       "      <td>32.00</td>\n",
       "    </tr>\n",
       "    <tr>\n",
       "      <th>305</th>\n",
       "      <td>Audi A6 2011-2015 2.0 TDI Premium Plus</td>\n",
       "      <td>Kochi</td>\n",
       "      <td>2014</td>\n",
       "      <td>61726</td>\n",
       "      <td>Diesel</td>\n",
       "      <td>Automatic</td>\n",
       "      <td>First</td>\n",
       "      <td>17.68 kmpl</td>\n",
       "      <td>1968 CC</td>\n",
       "      <td>174.33 bhp</td>\n",
       "      <td>5.0</td>\n",
       "      <td>NaN</td>\n",
       "      <td>20.77</td>\n",
       "    </tr>\n",
       "    <tr>\n",
       "      <th>4582</th>\n",
       "      <td>Hyundai i20 1.2 Magna</td>\n",
       "      <td>Kolkata</td>\n",
       "      <td>2011</td>\n",
       "      <td>36000</td>\n",
       "      <td>Petrol</td>\n",
       "      <td>Manual</td>\n",
       "      <td>First</td>\n",
       "      <td>18.5 kmpl</td>\n",
       "      <td>1197 CC</td>\n",
       "      <td>80 bhp</td>\n",
       "      <td>5.0</td>\n",
       "      <td>NaN</td>\n",
       "      <td>2.50</td>\n",
       "    </tr>\n",
       "    <tr>\n",
       "      <th>5434</th>\n",
       "      <td>Honda WR-V Edge Edition i-VTEC S</td>\n",
       "      <td>Kochi</td>\n",
       "      <td>2019</td>\n",
       "      <td>13913</td>\n",
       "      <td>Petrol</td>\n",
       "      <td>Manual</td>\n",
       "      <td>First</td>\n",
       "      <td>17.5 kmpl</td>\n",
       "      <td>1199 CC</td>\n",
       "      <td>88.7 bhp</td>\n",
       "      <td>5.0</td>\n",
       "      <td>9.36 Lakh</td>\n",
       "      <td>8.20</td>\n",
       "    </tr>\n",
       "  </tbody>\n",
       "</table>\n",
       "</div>"
      ],
      "text/plain": [
       "                                            Name    Location  Year  \\\n",
       "S.No.                                                                \n",
       "2397              Ford EcoSport 1.5 Petrol Trend     Kolkata  2016   \n",
       "3777                      Maruti Wagon R VXI 1.2       Kochi  2015   \n",
       "4425                      Ford Endeavour 4x2 XLT   Hyderabad  2007   \n",
       "3661   Mercedes-Benz E-Class E250 CDI Avantgrade  Coimbatore  2016   \n",
       "4514        Hyundai Xcent 1.2 Kappa AT SX Option       Kochi  2016   \n",
       "599               Toyota Innova Crysta 2.8 ZX AT  Coimbatore  2019   \n",
       "186    Mercedes-Benz E-Class E250 CDI Avantgrade   Bangalore  2014   \n",
       "305       Audi A6 2011-2015 2.0 TDI Premium Plus       Kochi  2014   \n",
       "4582                       Hyundai i20 1.2 Magna     Kolkata  2011   \n",
       "5434            Honda WR-V Edge Edition i-VTEC S       Kochi  2019   \n",
       "\n",
       "       Kilometers_Driven Fuel_Type Transmission Owner_Type     Mileage  \\\n",
       "S.No.                                                                    \n",
       "2397               21460    Petrol       Manual      First   17.0 kmpl   \n",
       "3777               49818    Petrol       Manual      First   21.5 kmpl   \n",
       "4425              130000    Diesel       Manual      First   13.1 kmpl   \n",
       "3661               39753    Diesel    Automatic      First   13.0 kmpl   \n",
       "4514               45560    Petrol    Automatic      First   16.9 kmpl   \n",
       "599                40674    Diesel    Automatic      First  11.36 kmpl   \n",
       "186                37382    Diesel    Automatic      First   13.0 kmpl   \n",
       "305                61726    Diesel    Automatic      First  17.68 kmpl   \n",
       "4582               36000    Petrol       Manual      First   18.5 kmpl   \n",
       "5434               13913    Petrol       Manual      First   17.5 kmpl   \n",
       "\n",
       "        Engine       Power  Seats   New_Price  Price  \n",
       "S.No.                                                 \n",
       "2397   1497 CC  121.36 bhp    5.0   9.47 Lakh   6.00  \n",
       "3777   1197 CC   81.80 bhp    5.0   5.44 Lakh   4.11  \n",
       "4425   2499 CC     141 bhp    7.0         NaN   6.00  \n",
       "3661   2143 CC   201.1 bhp    5.0         NaN  35.28  \n",
       "4514   1197 CC      82 bhp    5.0         NaN   6.34  \n",
       "599    2755 CC   171.5 bhp    7.0  28.05 Lakh  24.82  \n",
       "186    2143 CC   201.1 bhp    5.0         NaN  32.00  \n",
       "305    1968 CC  174.33 bhp    5.0         NaN  20.77  \n",
       "4582   1197 CC      80 bhp    5.0         NaN   2.50  \n",
       "5434   1199 CC    88.7 bhp    5.0   9.36 Lakh   8.20  "
      ]
     },
     "execution_count": 5,
     "metadata": {},
     "output_type": "execute_result"
    }
   ],
   "source": [
    "# Preview of 10 random rows of the dataset\n",
    "#To see random 10 rows, numpy's random seed was used. \n",
    "#Putting random.seed to be 1 will return the same random 10 rows. \n",
    "np.random.seed(1)\n",
    "usedCarData.sample(n=10)\n",
    "#The Reason we want to return random rows is so that we can see  the typical values from a random sample. "
   ]
  },
  {
   "cell_type": "markdown",
   "metadata": {},
   "source": [
    "### Observation: \n",
    "<p> We can see that the \"Name\" column has complex strings with multiple words, hyphens and numbers as part of the string.The \"Mileage\" column has units in it, so a string but we would want it to be numeric so that we can use it as a continous variable. The engine and Power columns also are strings. New_price is again a string, which we would want to convert to a numeric column. Price looks like a numeric column. We choose not to drop any columns at this point as all columns look to have relevant information. </p>"
   ]
  },
  {
   "cell_type": "code",
   "execution_count": 6,
   "metadata": {},
   "outputs": [
    {
     "name": "stdout",
     "output_type": "stream",
     "text": [
      "<class 'pandas.core.frame.DataFrame'>\n",
      "Int64Index: 7253 entries, 0 to 7252\n",
      "Data columns (total 13 columns):\n",
      " #   Column             Non-Null Count  Dtype  \n",
      "---  ------             --------------  -----  \n",
      " 0   Name               7253 non-null   object \n",
      " 1   Location           7253 non-null   object \n",
      " 2   Year               7253 non-null   int64  \n",
      " 3   Kilometers_Driven  7253 non-null   int64  \n",
      " 4   Fuel_Type          7253 non-null   object \n",
      " 5   Transmission       7253 non-null   object \n",
      " 6   Owner_Type         7253 non-null   object \n",
      " 7   Mileage            7251 non-null   object \n",
      " 8   Engine             7207 non-null   object \n",
      " 9   Power              7207 non-null   object \n",
      " 10  Seats              7200 non-null   float64\n",
      " 11  New_Price          1006 non-null   object \n",
      " 12  Price              6019 non-null   float64\n",
      "dtypes: float64(2), int64(2), object(9)\n",
      "memory usage: 793.3+ KB\n"
     ]
    }
   ],
   "source": [
    "usedCarData.info()"
   ]
  },
  {
   "cell_type": "markdown",
   "metadata": {},
   "source": [
    "### Observation\n",
    "<p> We can see the types of the columns and non-null values in this section. The maximum number of rows are 7253. \"Year\", \"Kilometers_Driven\" are int64. \"Seats\" and \"Price\" are float, so we can treat these two columns as numeric variables too. \"Year\", \"Kilometers_Driven\" have no missing values. \"Seats\" have considerable number of missing values<br>\n",
    "    \"Name\", \"Location\", \"Fuel_type\", \"Transmission\", \"Owner_type\"being a string is convienient, however for model-building, we will convert some of them to a category. \"Name\", \"Location\", \"Fuel_type\", \"Transmission\", \"Owner_Type\" have no missing values. <br>\n",
    "    However, \"Mileage\" has 2 missing values. <br>\n",
    "    \"Engine\" and \"Power\" both have 46 missing values.<br>\n",
    "    By far, the largest number of missing values are in \"New_price\" (86% of the values are missing). \"Price\" also has more than a 1000 columns missing.</p>"
   ]
  },
  {
   "cell_type": "code",
   "execution_count": 7,
   "metadata": {},
   "outputs": [
    {
     "data": {
      "text/plain": [
       "New_Price            6247\n",
       "Price                1234\n",
       "Seats                  53\n",
       "Power                  46\n",
       "Engine                 46\n",
       "Mileage                 2\n",
       "Owner_Type              0\n",
       "Transmission            0\n",
       "Fuel_Type               0\n",
       "Kilometers_Driven       0\n",
       "Year                    0\n",
       "Location                0\n",
       "Name                    0\n",
       "dtype: int64"
      ]
     },
     "execution_count": 7,
     "metadata": {},
     "output_type": "execute_result"
    }
   ],
   "source": [
    "#Finding the sum total of missing values in each of the columns\n",
    "usedCarData.isnull().sum().sort_values(ascending=False) "
   ]
  },
  {
   "cell_type": "markdown",
   "metadata": {},
   "source": [
    "### Observation \n",
    "<p> \"New_Price\" which is a string has the largest number of missing values. This column reflects the price of a new car of the same model. \"Engine\" and \"Power\" both have the same number of missing values - 46, which indicates a pattern. However, the remaining columns such as \"Seats\" and \"Mileage\" do not adhere to this pattern. \"Price\" - which will be our dependent varialbe - also has 1234 values missing.</p>"
   ]
  },
  {
   "cell_type": "markdown",
   "metadata": {},
   "source": [
    "### 5. Data Preprocessing Section"
   ]
  },
  {
   "cell_type": "markdown",
   "metadata": {},
   "source": [
    "<p> Before we build a regression model to predict the price of used cars, we observe that out of the 13 columns, only 4 are numeric. Also, 6 of the columns have missing values.We will convert some of the columns of type \"Object\" into numeric columns so that we can have an impute strategy for the missing values. The \"Name\" column has information about the brand as well as the model - so we can tackle separating out the brand information. </p>\n",
    "<p> This section has the following pre-processing steps:</p>\n",
    "<ol> \n",
    "    <li>Converting the \"Mileage\" column to a numeric column</li>\n",
    "    <li>Converting the \"Engine\" column to a numeric column</li>\n",
    "    <li>Convering the \"Power\" column to a numeric column</li>\n",
    "    <li>Converting the \"New_Price\" column to a numeric column</li>\n",
    "    <li>Imputing values for \"Mileage\" column for the missing observations.</li>\n",
    "    <li>Imputing values for \"Engine\" column for the missing observations.</li>\n",
    "    <li>Imputing values for \"Power\" column for the missing observations.</li>\n",
    "    <li>Imputing values for \"New_Price\" column for the missing observations.</li>\n",
    "    <li>Dropping the rows for the dependent variable - the \"Price\" of the used car.</li>\n",
    "    <li>Forming \"Name_Brand\" column from the \"Name\" column.</li>\n",
    "    "
   ]
  },
  {
   "cell_type": "code",
   "execution_count": 8,
   "metadata": {},
   "outputs": [],
   "source": [
    "#Copying the dataframe to another variable name before we do operations on the data\n",
    "usedCD_preprocessed = usedCarData.copy()"
   ]
  },
  {
   "cell_type": "code",
   "execution_count": 9,
   "metadata": {},
   "outputs": [
    {
     "data": {
      "text/html": [
       "<div>\n",
       "<style scoped>\n",
       "    .dataframe tbody tr th:only-of-type {\n",
       "        vertical-align: middle;\n",
       "    }\n",
       "\n",
       "    .dataframe tbody tr th {\n",
       "        vertical-align: top;\n",
       "    }\n",
       "\n",
       "    .dataframe thead th {\n",
       "        text-align: right;\n",
       "    }\n",
       "</style>\n",
       "<table border=\"1\" class=\"dataframe\">\n",
       "  <thead>\n",
       "    <tr style=\"text-align: right;\">\n",
       "      <th></th>\n",
       "      <th>count</th>\n",
       "      <th>unique</th>\n",
       "      <th>top</th>\n",
       "      <th>freq</th>\n",
       "      <th>mean</th>\n",
       "      <th>std</th>\n",
       "      <th>min</th>\n",
       "      <th>25%</th>\n",
       "      <th>50%</th>\n",
       "      <th>75%</th>\n",
       "      <th>max</th>\n",
       "    </tr>\n",
       "  </thead>\n",
       "  <tbody>\n",
       "    <tr>\n",
       "      <th>Name</th>\n",
       "      <td>7253</td>\n",
       "      <td>2041</td>\n",
       "      <td>Mahindra XUV500 W8 2WD</td>\n",
       "      <td>55</td>\n",
       "      <td>NaN</td>\n",
       "      <td>NaN</td>\n",
       "      <td>NaN</td>\n",
       "      <td>NaN</td>\n",
       "      <td>NaN</td>\n",
       "      <td>NaN</td>\n",
       "      <td>NaN</td>\n",
       "    </tr>\n",
       "    <tr>\n",
       "      <th>Location</th>\n",
       "      <td>7253</td>\n",
       "      <td>11</td>\n",
       "      <td>Mumbai</td>\n",
       "      <td>949</td>\n",
       "      <td>NaN</td>\n",
       "      <td>NaN</td>\n",
       "      <td>NaN</td>\n",
       "      <td>NaN</td>\n",
       "      <td>NaN</td>\n",
       "      <td>NaN</td>\n",
       "      <td>NaN</td>\n",
       "    </tr>\n",
       "    <tr>\n",
       "      <th>Year</th>\n",
       "      <td>7253</td>\n",
       "      <td>NaN</td>\n",
       "      <td>NaN</td>\n",
       "      <td>NaN</td>\n",
       "      <td>2013.37</td>\n",
       "      <td>3.25442</td>\n",
       "      <td>1996</td>\n",
       "      <td>2011</td>\n",
       "      <td>2014</td>\n",
       "      <td>2016</td>\n",
       "      <td>2019</td>\n",
       "    </tr>\n",
       "    <tr>\n",
       "      <th>Kilometers_Driven</th>\n",
       "      <td>7253</td>\n",
       "      <td>NaN</td>\n",
       "      <td>NaN</td>\n",
       "      <td>NaN</td>\n",
       "      <td>58699.1</td>\n",
       "      <td>84427.7</td>\n",
       "      <td>171</td>\n",
       "      <td>34000</td>\n",
       "      <td>53416</td>\n",
       "      <td>73000</td>\n",
       "      <td>6.5e+06</td>\n",
       "    </tr>\n",
       "    <tr>\n",
       "      <th>Fuel_Type</th>\n",
       "      <td>7253</td>\n",
       "      <td>5</td>\n",
       "      <td>Diesel</td>\n",
       "      <td>3852</td>\n",
       "      <td>NaN</td>\n",
       "      <td>NaN</td>\n",
       "      <td>NaN</td>\n",
       "      <td>NaN</td>\n",
       "      <td>NaN</td>\n",
       "      <td>NaN</td>\n",
       "      <td>NaN</td>\n",
       "    </tr>\n",
       "    <tr>\n",
       "      <th>Transmission</th>\n",
       "      <td>7253</td>\n",
       "      <td>2</td>\n",
       "      <td>Manual</td>\n",
       "      <td>5204</td>\n",
       "      <td>NaN</td>\n",
       "      <td>NaN</td>\n",
       "      <td>NaN</td>\n",
       "      <td>NaN</td>\n",
       "      <td>NaN</td>\n",
       "      <td>NaN</td>\n",
       "      <td>NaN</td>\n",
       "    </tr>\n",
       "    <tr>\n",
       "      <th>Owner_Type</th>\n",
       "      <td>7253</td>\n",
       "      <td>4</td>\n",
       "      <td>First</td>\n",
       "      <td>5952</td>\n",
       "      <td>NaN</td>\n",
       "      <td>NaN</td>\n",
       "      <td>NaN</td>\n",
       "      <td>NaN</td>\n",
       "      <td>NaN</td>\n",
       "      <td>NaN</td>\n",
       "      <td>NaN</td>\n",
       "    </tr>\n",
       "    <tr>\n",
       "      <th>Mileage</th>\n",
       "      <td>7251</td>\n",
       "      <td>450</td>\n",
       "      <td>17.0 kmpl</td>\n",
       "      <td>207</td>\n",
       "      <td>NaN</td>\n",
       "      <td>NaN</td>\n",
       "      <td>NaN</td>\n",
       "      <td>NaN</td>\n",
       "      <td>NaN</td>\n",
       "      <td>NaN</td>\n",
       "      <td>NaN</td>\n",
       "    </tr>\n",
       "    <tr>\n",
       "      <th>Engine</th>\n",
       "      <td>7207</td>\n",
       "      <td>150</td>\n",
       "      <td>1197 CC</td>\n",
       "      <td>732</td>\n",
       "      <td>NaN</td>\n",
       "      <td>NaN</td>\n",
       "      <td>NaN</td>\n",
       "      <td>NaN</td>\n",
       "      <td>NaN</td>\n",
       "      <td>NaN</td>\n",
       "      <td>NaN</td>\n",
       "    </tr>\n",
       "    <tr>\n",
       "      <th>Power</th>\n",
       "      <td>7207</td>\n",
       "      <td>386</td>\n",
       "      <td>74 bhp</td>\n",
       "      <td>280</td>\n",
       "      <td>NaN</td>\n",
       "      <td>NaN</td>\n",
       "      <td>NaN</td>\n",
       "      <td>NaN</td>\n",
       "      <td>NaN</td>\n",
       "      <td>NaN</td>\n",
       "      <td>NaN</td>\n",
       "    </tr>\n",
       "    <tr>\n",
       "      <th>Seats</th>\n",
       "      <td>7200</td>\n",
       "      <td>NaN</td>\n",
       "      <td>NaN</td>\n",
       "      <td>NaN</td>\n",
       "      <td>5.27972</td>\n",
       "      <td>0.81166</td>\n",
       "      <td>0</td>\n",
       "      <td>5</td>\n",
       "      <td>5</td>\n",
       "      <td>5</td>\n",
       "      <td>10</td>\n",
       "    </tr>\n",
       "    <tr>\n",
       "      <th>New_Price</th>\n",
       "      <td>1006</td>\n",
       "      <td>625</td>\n",
       "      <td>63.71 Lakh</td>\n",
       "      <td>6</td>\n",
       "      <td>NaN</td>\n",
       "      <td>NaN</td>\n",
       "      <td>NaN</td>\n",
       "      <td>NaN</td>\n",
       "      <td>NaN</td>\n",
       "      <td>NaN</td>\n",
       "      <td>NaN</td>\n",
       "    </tr>\n",
       "    <tr>\n",
       "      <th>Price</th>\n",
       "      <td>6019</td>\n",
       "      <td>NaN</td>\n",
       "      <td>NaN</td>\n",
       "      <td>NaN</td>\n",
       "      <td>9.47947</td>\n",
       "      <td>11.1879</td>\n",
       "      <td>0.44</td>\n",
       "      <td>3.5</td>\n",
       "      <td>5.64</td>\n",
       "      <td>9.95</td>\n",
       "      <td>160</td>\n",
       "    </tr>\n",
       "  </tbody>\n",
       "</table>\n",
       "</div>"
      ],
      "text/plain": [
       "                  count unique                     top  freq     mean  \\\n",
       "Name               7253   2041  Mahindra XUV500 W8 2WD    55      NaN   \n",
       "Location           7253     11                  Mumbai   949      NaN   \n",
       "Year               7253    NaN                     NaN   NaN  2013.37   \n",
       "Kilometers_Driven  7253    NaN                     NaN   NaN  58699.1   \n",
       "Fuel_Type          7253      5                  Diesel  3852      NaN   \n",
       "Transmission       7253      2                  Manual  5204      NaN   \n",
       "Owner_Type         7253      4                   First  5952      NaN   \n",
       "Mileage            7251    450               17.0 kmpl   207      NaN   \n",
       "Engine             7207    150                 1197 CC   732      NaN   \n",
       "Power              7207    386                  74 bhp   280      NaN   \n",
       "Seats              7200    NaN                     NaN   NaN  5.27972   \n",
       "New_Price          1006    625              63.71 Lakh     6      NaN   \n",
       "Price              6019    NaN                     NaN   NaN  9.47947   \n",
       "\n",
       "                       std   min    25%    50%    75%      max  \n",
       "Name                   NaN   NaN    NaN    NaN    NaN      NaN  \n",
       "Location               NaN   NaN    NaN    NaN    NaN      NaN  \n",
       "Year               3.25442  1996   2011   2014   2016     2019  \n",
       "Kilometers_Driven  84427.7   171  34000  53416  73000  6.5e+06  \n",
       "Fuel_Type              NaN   NaN    NaN    NaN    NaN      NaN  \n",
       "Transmission           NaN   NaN    NaN    NaN    NaN      NaN  \n",
       "Owner_Type             NaN   NaN    NaN    NaN    NaN      NaN  \n",
       "Mileage                NaN   NaN    NaN    NaN    NaN      NaN  \n",
       "Engine                 NaN   NaN    NaN    NaN    NaN      NaN  \n",
       "Power                  NaN   NaN    NaN    NaN    NaN      NaN  \n",
       "Seats              0.81166     0      5      5      5       10  \n",
       "New_Price              NaN   NaN    NaN    NaN    NaN      NaN  \n",
       "Price              11.1879  0.44    3.5   5.64   9.95      160  "
      ]
     },
     "execution_count": 9,
     "metadata": {},
     "output_type": "execute_result"
    }
   ],
   "source": [
    "#Before starting preprocessing, a look at the summary statistics \n",
    "usedCD_preprocessed.describe(include=\"all\").T #taking transpose since it is easier to view"
   ]
  },
  {
   "cell_type": "markdown",
   "metadata": {},
   "source": [
    "#### Observations\n",
    "<p> The mean year is 2013,and the median is 2014, so a symmetric distribution. </p>\n",
    "<p> The average used car was driven for 58,600 kms (36,473 miles).</p>\n",
    "<p> The average used car had ~ 5 seats.</p>\n",
    "<p> The average price of the used car was 9.47 lakhs (~12,000 dollars).</p>\n",
    "<p> The mean and median for Kilometers_Driven are close - so normal distribution </p>\n",
    "<p> The mean and median for seats are close - so normal distribution.</p>\n",
    "<p> The mean and median for price are quite different - so not a normal distribution, plus the max is 160, so outliers may be present. </p>"
   ]
  },
  {
   "cell_type": "code",
   "execution_count": 10,
   "metadata": {},
   "outputs": [
    {
     "data": {
      "text/plain": [
       "17.0 kmpl     207\n",
       "18.9 kmpl     201\n",
       "18.6 kmpl     144\n",
       "21.1 kmpl     106\n",
       "20.36 kmpl    105\n",
       "             ... \n",
       "23.01 kmpl      1\n",
       "21.4 km/kg      1\n",
       "17.09 kmpl      1\n",
       "6.4 kmpl        1\n",
       "17.24 kmpl      1\n",
       "Name: Mileage, Length: 450, dtype: int64"
      ]
     },
     "execution_count": 10,
     "metadata": {},
     "output_type": "execute_result"
    }
   ],
   "source": [
    "#Before converting \"Mileage\" to numeric column, we check for unique values \n",
    "usedCD_preprocessed.Mileage.value_counts()"
   ]
  },
  {
   "cell_type": "markdown",
   "metadata": {},
   "source": [
    "### Observation\n",
    "<p>There are 450 unique values for the \"Mileage\" column. 207 observations were 17 kmpl while there are multiple values that occur just once in the column.</p>\n"
   ]
  },
  {
   "cell_type": "code",
   "execution_count": 11,
   "metadata": {},
   "outputs": [],
   "source": [
    "#Converting the \"Mileage\" column to a numeric column\n",
    "#We are writing a user-defined function. The description of the function is in the document string. \n",
    "def mileage_to_num(mileage_val):\n",
    "    \"\"\"This function takes Mileage as the input, determines whether the units\n",
    "    are present at the end of the string, and then returns them as a float.For any values that don't\n",
    "    fit the endswith clause will have a \"Nan\".\"\"\"\n",
    "    if isinstance(mileage_val,str): # to check if the mileage observation is a string\n",
    "        if mileage_val.endswith(\"kmpl\"):# checks if the value ends with \"kmpl\"\n",
    "            return float(mileage_val.replace(\"kmpl\",\"\"))#replacing the units kmpl with \"\"\n",
    "        elif mileage_val.endswith(\"km/kg\"):#some values seen in the preview ended with \"km/kg\"\n",
    "            return float(mileage_val.replace(\"km/kg\",\"\"))\n",
    "        else:\n",
    "            return np.nan\n",
    "usedCD_preprocessed[\"Mileage_in_kmpl\"] = usedCD_preprocessed[\"Mileage\"].apply(mileage_to_num)"
   ]
  },
  {
   "cell_type": "code",
   "execution_count": 12,
   "metadata": {},
   "outputs": [
    {
     "data": {
      "text/plain": [
       "S.No.\n",
       "0    26.60\n",
       "1    19.67\n",
       "2    18.20\n",
       "3    20.77\n",
       "4    15.20\n",
       "Name: Mileage_in_kmpl, dtype: float64"
      ]
     },
     "execution_count": 12,
     "metadata": {},
     "output_type": "execute_result"
    }
   ],
   "source": [
    "#Preview the processed \"Mileage\" column\n",
    "usedCD_preprocessed.Mileage_in_kmpl.head()"
   ]
  },
  {
   "cell_type": "markdown",
   "metadata": {},
   "source": [
    "### Observations\n",
    "<p> The \"Mileage\" column is successfully stripped of its units (which we still describe in the title of the column) and is now of type float. </p> "
   ]
  },
  {
   "cell_type": "code",
   "execution_count": 13,
   "metadata": {},
   "outputs": [],
   "source": [
    "#We can now drop the \"Mileage\" column as \"Mileage_in_kmpl\" will take its place. \n",
    "usedCD_preprocessed.drop(\"Mileage\",axis=1,inplace=True)"
   ]
  },
  {
   "cell_type": "markdown",
   "metadata": {},
   "source": [
    "<p> We shall repeat the above actions for \"Engine\", \"Power\" and \"New_Price\"</p>"
   ]
  },
  {
   "cell_type": "code",
   "execution_count": 14,
   "metadata": {},
   "outputs": [],
   "source": [
    "#Converting the \"Engine\" column to a numeric column\n",
    "#We are writing a user-defined function. The description of the function is in the document string. \n",
    "def engine_to_num(engine_val):\n",
    "    \"\"\"This function takes \"Engine\" as the input, determines whether the units\n",
    "    are present at the end of the string, and then returns them as a float.For any values that don't\n",
    "    fit the endswith clause will have a \"Nan\".\"\"\"\n",
    "    if isinstance(engine_val,str):\n",
    "        if engine_val.endswith(\"CC\"):\n",
    "            splt = engine_val.split(\" \")\n",
    "            return float(splt[0])\n",
    "        else:\n",
    "            return np.nan\n",
    "usedCD_preprocessed[\"Engine_in_CC\"] = usedCD_preprocessed[\"Engine\"].apply(engine_to_num)"
   ]
  },
  {
   "cell_type": "code",
   "execution_count": 15,
   "metadata": {},
   "outputs": [
    {
     "data": {
      "text/plain": [
       "S.No.\n",
       "0     998.0\n",
       "1    1582.0\n",
       "2    1199.0\n",
       "3    1248.0\n",
       "4    1968.0\n",
       "Name: Engine_in_CC, dtype: float64"
      ]
     },
     "execution_count": 15,
     "metadata": {},
     "output_type": "execute_result"
    }
   ],
   "source": [
    "#Preview the processed \"Engine\" column\n",
    "usedCD_preprocessed.Engine_in_CC.head()"
   ]
  },
  {
   "cell_type": "markdown",
   "metadata": {},
   "source": [
    "### Observations\n",
    "<p> The \"Engine\" column is successfully stripped of its units (which we still describe in the title of the column) and is now of type float. </p> "
   ]
  },
  {
   "cell_type": "code",
   "execution_count": 16,
   "metadata": {},
   "outputs": [],
   "source": [
    "#We can now drop the \"Engine\" column as \"Engine_in_kmpl\" will take its place. \n",
    "usedCD_preprocessed.drop(\"Engine\",axis=1,inplace=True)"
   ]
  },
  {
   "cell_type": "code",
   "execution_count": 17,
   "metadata": {},
   "outputs": [
    {
     "data": {
      "text/plain": [
       "74 bhp        280\n",
       "98.6 bhp      166\n",
       "73.9 bhp      152\n",
       "140 bhp       142\n",
       "null bhp      129\n",
       "             ... \n",
       "270.88 bhp      1\n",
       "71.01 bhp       1\n",
       "261.5 bhp       1\n",
       "152.88 bhp      1\n",
       "360 bhp         1\n",
       "Name: Power, Length: 386, dtype: int64"
      ]
     },
     "execution_count": 17,
     "metadata": {},
     "output_type": "execute_result"
    }
   ],
   "source": [
    "#For the power column, there are null values as seen when looking at unique values\n",
    "usedCD_preprocessed.Power.value_counts()"
   ]
  },
  {
   "cell_type": "code",
   "execution_count": 18,
   "metadata": {},
   "outputs": [
    {
     "data": {
      "text/plain": [
       "74 bhp        280\n",
       "98.6 bhp      166\n",
       "73.9 bhp      152\n",
       "140 bhp       142\n",
       "NaN           129\n",
       "             ... \n",
       "270.88 bhp      1\n",
       "71.01 bhp       1\n",
       "261.5 bhp       1\n",
       "152.88 bhp      1\n",
       "360 bhp         1\n",
       "Name: Power, Length: 386, dtype: int64"
      ]
     },
     "execution_count": 18,
     "metadata": {},
     "output_type": "execute_result"
    }
   ],
   "source": [
    "#Converting the null values to NaN \n",
    "usedCD_preprocessed['Power'] = usedCD_preprocessed['Power'].replace(\"null bhp\", \"NaN\")\n",
    "#This will get the column ready for converting to a numeric column\n",
    "usedCD_preprocessed.Power.value_counts()#NaNs will be present"
   ]
  },
  {
   "cell_type": "code",
   "execution_count": 19,
   "metadata": {},
   "outputs": [],
   "source": [
    "#Converting the \"Power\" column to a numeric column\n",
    "#We are writing a user-defined function. The description of the function is in the document string. \n",
    "def power_to_num(power_val):\n",
    "    \"\"\"This function takes \"Power\" as the input, determines whether the units\n",
    "    are present at the end of the string, and then returns them as a float.For any values that don't\n",
    "    fit the endswith clause will have a \"Nan\".\"\"\"\n",
    "    if isinstance(power_val,str):\n",
    "        if power_val.endswith(\"bhp\"):# the units are brake horsepower\n",
    "            splt = power_val.split(\" \")                         \n",
    "            return float(splt[0])\n",
    "    else:\n",
    "        return np.nan\n",
    "usedCD_preprocessed[\"Power_in_bhp\"] = usedCD_preprocessed[\"Power\"].apply(power_to_num)"
   ]
  },
  {
   "cell_type": "code",
   "execution_count": 20,
   "metadata": {},
   "outputs": [
    {
     "data": {
      "text/plain": [
       "S.No.\n",
       "0     58.16\n",
       "1    126.20\n",
       "2     88.70\n",
       "3     88.76\n",
       "4    140.80\n",
       "Name: Power_in_bhp, dtype: float64"
      ]
     },
     "execution_count": 20,
     "metadata": {},
     "output_type": "execute_result"
    }
   ],
   "source": [
    "#Preview the processed \"Engine\" column\n",
    "usedCD_preprocessed.Power_in_bhp.head()"
   ]
  },
  {
   "cell_type": "code",
   "execution_count": 21,
   "metadata": {},
   "outputs": [],
   "source": [
    "#We can now drop the \"Power\" column as \"Power_in_bhp\" will take its place. \n",
    "usedCD_preprocessed.drop(\"Power\",axis=1,inplace=True)"
   ]
  },
  {
   "cell_type": "code",
   "execution_count": 22,
   "metadata": {},
   "outputs": [],
   "source": [
    "#Converting the \"New_Price\" column to a numeric column\n",
    "def newprice_to_num(newprice_val):\n",
    "    \"\"\"This function takes \"New_Price\" as the input, determines whether the units\n",
    "    are present at the end of the string, and then returns them as a float.For any values that don't\n",
    "    fit the endswith clause will have a \"Nan\".\"\"\"\n",
    "    if isinstance(newprice_val,str):\n",
    "        if newprice_val.endswith(\"Lakh\"):\n",
    "            splt = newprice_val.split(\" \")#the string will be split at the space between number and Lakhs\n",
    "            return float(splt[0])\n",
    "        else:\n",
    "            return np.nan\n",
    "usedCD_preprocessed['New_Price_num'] = usedCD_preprocessed['New_Price'].apply(newprice_to_num)"
   ]
  },
  {
   "cell_type": "code",
   "execution_count": 23,
   "metadata": {},
   "outputs": [
    {
     "data": {
      "text/plain": [
       "S.No.\n",
       "0     NaN\n",
       "1     NaN\n",
       "2    8.61\n",
       "3     NaN\n",
       "4     NaN\n",
       "Name: New_Price_num, dtype: float64"
      ]
     },
     "execution_count": 23,
     "metadata": {},
     "output_type": "execute_result"
    }
   ],
   "source": [
    "#Preview the processed \"New_Price\" column\n",
    "usedCD_preprocessed.New_Price_num.head()"
   ]
  },
  {
   "cell_type": "code",
   "execution_count": 24,
   "metadata": {},
   "outputs": [],
   "source": [
    "#We can now drop the \"New_Price\" column as \"New_Price_num\" will take its place. \n",
    "usedCD_preprocessed.drop(\"New_Price\",axis=1,inplace=True)"
   ]
  },
  {
   "cell_type": "markdown",
   "metadata": {},
   "source": [
    "#### The next steps are to deal with the missing values for the columns\n",
    "<p> One of the first steps for this is to split the \"Name\" - which contains both brand and model name into different sets. This will give us a pathway to use medians/means for imputing values that will give consideration to which company or brand name the data is related to.</p>"
   ]
  },
  {
   "cell_type": "code",
   "execution_count": 25,
   "metadata": {},
   "outputs": [],
   "source": [
    "#Splitting the \"Name\" to have brand name and model name separate\n",
    "def name_split(name_val):\n",
    "    \"\"\"This function takes \"Name\" as the input, splits the words at the space between them, and \n",
    "    returns the brand name. If there are any that don't fit the condition of string, \n",
    "    then NaN will be returned.\"\"\"\n",
    "    if isinstance(name_val,str):\n",
    "        splt = name_val.split(\" \")\n",
    "        return str(splt[0])\n",
    "    else:\n",
    "        return np.nan\n",
    "usedCD_preprocessed['Name_Brand'] = usedCD_preprocessed['Name'].apply(name_split)"
   ]
  },
  {
   "cell_type": "code",
   "execution_count": 26,
   "metadata": {},
   "outputs": [
    {
     "name": "stdout",
     "output_type": "stream",
     "text": [
      "<class 'pandas.core.frame.DataFrame'>\n",
      "Int64Index: 7253 entries, 0 to 7252\n",
      "Data columns (total 14 columns):\n",
      " #   Column             Non-Null Count  Dtype  \n",
      "---  ------             --------------  -----  \n",
      " 0   Name               7253 non-null   object \n",
      " 1   Location           7253 non-null   object \n",
      " 2   Year               7253 non-null   int64  \n",
      " 3   Kilometers_Driven  7253 non-null   int64  \n",
      " 4   Fuel_Type          7253 non-null   object \n",
      " 5   Transmission       7253 non-null   object \n",
      " 6   Owner_Type         7253 non-null   object \n",
      " 7   Seats              7200 non-null   float64\n",
      " 8   Price              6019 non-null   float64\n",
      " 9   Mileage_in_kmpl    7251 non-null   float64\n",
      " 10  Engine_in_CC       7207 non-null   float64\n",
      " 11  Power_in_bhp       7078 non-null   float64\n",
      " 12  New_Price_num      986 non-null    float64\n",
      " 13  Name_Brand         7253 non-null   object \n",
      "dtypes: float64(6), int64(2), object(6)\n",
      "memory usage: 850.0+ KB\n"
     ]
    }
   ],
   "source": [
    "#We will not drop the \"Name\" column at present as we may need it later for the regression model.\n",
    "#Looking at the types for the dataset now\n",
    "usedCD_preprocessed.info()"
   ]
  },
  {
   "cell_type": "markdown",
   "metadata": {},
   "source": [
    "### Observations\n",
    "<p> We now have 6 columns that are float, 2 columns are int, and 6 objects. </p>"
   ]
  },
  {
   "cell_type": "code",
   "execution_count": 27,
   "metadata": {},
   "outputs": [
    {
     "data": {
      "text/plain": [
       "New_Price_num        6267\n",
       "Price                1234\n",
       "Power_in_bhp          175\n",
       "Seats                  53\n",
       "Engine_in_CC           46\n",
       "Mileage_in_kmpl         2\n",
       "Name_Brand              0\n",
       "Owner_Type              0\n",
       "Transmission            0\n",
       "Fuel_Type               0\n",
       "Kilometers_Driven       0\n",
       "Year                    0\n",
       "Location                0\n",
       "Name                    0\n",
       "dtype: int64"
      ]
     },
     "execution_count": 27,
     "metadata": {},
     "output_type": "execute_result"
    }
   ],
   "source": [
    "#A look at the missing values again\n",
    "usedCD_preprocessed.isnull().sum().sort_values(ascending=False)"
   ]
  },
  {
   "cell_type": "code",
   "execution_count": 28,
   "metadata": {},
   "outputs": [
    {
     "data": {
      "text/plain": [
       "New_Price_num        6267\n",
       "Price                1234\n",
       "Power_in_bhp          175\n",
       "Engine_in_CC           46\n",
       "Mileage_in_kmpl         2\n",
       "Name_Brand              0\n",
       "Seats                   0\n",
       "Owner_Type              0\n",
       "Transmission            0\n",
       "Fuel_Type               0\n",
       "Kilometers_Driven       0\n",
       "Year                    0\n",
       "Location                0\n",
       "Name                    0\n",
       "dtype: int64"
      ]
     },
     "execution_count": 28,
     "metadata": {},
     "output_type": "execute_result"
    }
   ],
   "source": [
    "#Copying the dataframe again before we impute the values\n",
    "usedCD_preprocessed1 = usedCD_preprocessed.copy()\n",
    "\n",
    "#Imputation for seats - we will take median of seats by brand, and subsitute it for the missing values\n",
    "\n",
    "usedCD_preprocessed1[[\"Seats\"]] = usedCD_preprocessed1.groupby([\"Name_Brand\"])[\n",
    "    \"Seats\"\n",
    "].transform(lambda x: x.fillna(x.median()))\n",
    "#For above, we can take either the mean or the median. In the case of \"Seats\", mean is approx.\n",
    "#same as the median, so both strategies will work. In this case, we will take the mean value. \n",
    "#Using lambda function above\n",
    "usedCD_preprocessed1.isnull().sum().sort_values(ascending=False)#checking to see if missing values disappeared"
   ]
  },
  {
   "cell_type": "markdown",
   "metadata": {},
   "source": [
    "#### Observations\n",
    "<p> The \"Seats\" column has no missing values.</p>"
   ]
  },
  {
   "cell_type": "code",
   "execution_count": 29,
   "metadata": {},
   "outputs": [
    {
     "data": {
      "text/plain": [
       "New_Price_num        6267\n",
       "Price                1234\n",
       "Engine_in_CC           46\n",
       "Power_in_bhp            2\n",
       "Mileage_in_kmpl         2\n",
       "Name_Brand              0\n",
       "Seats                   0\n",
       "Owner_Type              0\n",
       "Transmission            0\n",
       "Fuel_Type               0\n",
       "Kilometers_Driven       0\n",
       "Year                    0\n",
       "Location                0\n",
       "Name                    0\n",
       "dtype: int64"
      ]
     },
     "execution_count": 29,
     "metadata": {},
     "output_type": "execute_result"
    }
   ],
   "source": [
    "#Imputation for Power - we will take median of Power by brand, and subsitute it for the missing values\n",
    "\n",
    "usedCD_preprocessed1[[\"Power_in_bhp\"]] = usedCD_preprocessed1.groupby([\"Name_Brand\"])[\n",
    "    \"Power_in_bhp\"\n",
    "].transform(lambda x: x.fillna(x.median()))\n",
    "usedCD_preprocessed1.isnull().sum().sort_values(ascending=False)#checking to see if missing values disappeared"
   ]
  },
  {
   "cell_type": "code",
   "execution_count": 30,
   "metadata": {},
   "outputs": [
    {
     "data": {
      "text/plain": [
       "Name_Brand\n",
       "Ambassador        35.500000\n",
       "Audi             189.287579\n",
       "BMW              210.263750\n",
       "Bentley          584.000000\n",
       "Chevrolet         90.833113\n",
       "Datsun            60.644706\n",
       "Fiat              89.276316\n",
       "Force            139.030000\n",
       "Ford              96.215783\n",
       "Hindustan               NaN\n",
       "Honda            108.357900\n",
       "Hyundai           91.727866\n",
       "ISUZU            134.000000\n",
       "Isuzu            167.785000\n",
       "Jaguar           236.216458\n",
       "Jeep             168.947368\n",
       "Lamborghini      560.000000\n",
       "Land             188.699104\n",
       "Mahindra         119.475227\n",
       "Maruti            74.000007\n",
       "Mercedes-Benz    193.580711\n",
       "Mini             146.656774\n",
       "Mitsubishi       145.193333\n",
       "Nissan            89.534872\n",
       "OpelCorsa         88.000000\n",
       "Porsche          323.189474\n",
       "Renault           87.510471\n",
       "Skoda            126.443267\n",
       "Smart                   NaN\n",
       "Tata              78.206535\n",
       "Toyota           128.402367\n",
       "Volkswagen        94.783783\n",
       "Volvo            188.464286\n",
       "Name: Power_in_bhp, dtype: float64"
      ]
     },
     "execution_count": 30,
     "metadata": {},
     "output_type": "execute_result"
    }
   ],
   "source": [
    "#The Power_in_bhp still has 2 missing values. \n",
    "usedCD_preprocessed1.groupby(\"Name_Brand\")[\"Power_in_bhp\"].mean()"
   ]
  },
  {
   "cell_type": "markdown",
   "metadata": {},
   "source": [
    "### Observations\n",
    "<p>We can see the \"Hindustan\" brand has a NaN, hence the value was not replaced by the median of the brand (as all values for that particular brand are NaN). In such a scenario, we can compute the median of the entire column, since brand information is not available, and replace the NaN by the column mean.</p>"
   ]
  },
  {
   "cell_type": "code",
   "execution_count": 31,
   "metadata": {},
   "outputs": [],
   "source": [
    "#Imputing values for remaining Power_in_bhp\n",
    "usedCD_preprocessed1['Power_in_bhp'].fillna(usedCD_preprocessed1['Power_in_bhp'].median(),inplace=True)"
   ]
  },
  {
   "cell_type": "code",
   "execution_count": 32,
   "metadata": {},
   "outputs": [
    {
     "data": {
      "text/plain": [
       "New_Price_num        6267\n",
       "Price                1234\n",
       "Engine_in_CC           46\n",
       "Mileage_in_kmpl         2\n",
       "Name_Brand              0\n",
       "Power_in_bhp            0\n",
       "Seats                   0\n",
       "Owner_Type              0\n",
       "Transmission            0\n",
       "Fuel_Type               0\n",
       "Kilometers_Driven       0\n",
       "Year                    0\n",
       "Location                0\n",
       "Name                    0\n",
       "dtype: int64"
      ]
     },
     "execution_count": 32,
     "metadata": {},
     "output_type": "execute_result"
    }
   ],
   "source": [
    "#Checking to see missing values \n",
    "usedCD_preprocessed1.isnull().sum().sort_values(ascending=False)"
   ]
  },
  {
   "cell_type": "code",
   "execution_count": 33,
   "metadata": {},
   "outputs": [
    {
     "data": {
      "text/plain": [
       "New_Price_num        6267\n",
       "Price                1234\n",
       "Mileage_in_kmpl         2\n",
       "Name_Brand              0\n",
       "Power_in_bhp            0\n",
       "Engine_in_CC            0\n",
       "Seats                   0\n",
       "Owner_Type              0\n",
       "Transmission            0\n",
       "Fuel_Type               0\n",
       "Kilometers_Driven       0\n",
       "Year                    0\n",
       "Location                0\n",
       "Name                    0\n",
       "dtype: int64"
      ]
     },
     "execution_count": 33,
     "metadata": {},
     "output_type": "execute_result"
    }
   ],
   "source": [
    "usedCD_preprocessed1[[\"Engine_in_CC\"]] = usedCD_preprocessed1.groupby([\"Name_Brand\"])[\n",
    "    \"Engine_in_CC\"\n",
    "].transform(lambda x: x.fillna(x.median()))\n",
    "#For above, we can take either the mean or the median. We are using the brand information to compute the median\n",
    "# as it is likely to be more representative of the brand than median of entire column.\n",
    "usedCD_preprocessed1.isnull().sum().sort_values(ascending=False)#checking to see if missing values disappeared"
   ]
  },
  {
   "cell_type": "markdown",
   "metadata": {},
   "source": [
    "#### Observations\n",
    "<p> The \"Engine_in_CC\" column has no missing values.</p>"
   ]
  },
  {
   "cell_type": "code",
   "execution_count": 34,
   "metadata": {},
   "outputs": [
    {
     "data": {
      "text/plain": [
       "Price                1234\n",
       "New_Price_num         183\n",
       "Mileage_in_kmpl         2\n",
       "Name_Brand              0\n",
       "Power_in_bhp            0\n",
       "Engine_in_CC            0\n",
       "Seats                   0\n",
       "Owner_Type              0\n",
       "Transmission            0\n",
       "Fuel_Type               0\n",
       "Kilometers_Driven       0\n",
       "Year                    0\n",
       "Location                0\n",
       "Name                    0\n",
       "dtype: int64"
      ]
     },
     "execution_count": 34,
     "metadata": {},
     "output_type": "execute_result"
    }
   ],
   "source": [
    "#Same approach for New_Price_num:\n",
    "usedCD_preprocessed1[[\"New_Price_num\"]] = usedCD_preprocessed1.groupby([\"Name_Brand\"])[\n",
    "    \"New_Price_num\"\n",
    "].transform(lambda x: x.fillna(x.median()))\n",
    "usedCD_preprocessed1.isnull().sum().sort_values(ascending=False)#checking to see missing values"
   ]
  },
  {
   "cell_type": "markdown",
   "metadata": {},
   "source": [
    "#### Observations:\n",
    "<p>As we can see there are 183 values still missing for New_Price_num. This is because there are no values for some brands, thus no median to substitute for. In such a scenario, one strategy is to replace it with the column mean.</p>"
   ]
  },
  {
   "cell_type": "code",
   "execution_count": 35,
   "metadata": {},
   "outputs": [],
   "source": [
    "usedCD_preprocessed1['New_Price_num'].fillna(usedCD_preprocessed1['New_Price_num'].median(),inplace=True)"
   ]
  },
  {
   "cell_type": "code",
   "execution_count": 36,
   "metadata": {},
   "outputs": [
    {
     "data": {
      "text/plain": [
       "Price                1234\n",
       "Mileage_in_kmpl         2\n",
       "Name_Brand              0\n",
       "New_Price_num           0\n",
       "Power_in_bhp            0\n",
       "Engine_in_CC            0\n",
       "Seats                   0\n",
       "Owner_Type              0\n",
       "Transmission            0\n",
       "Fuel_Type               0\n",
       "Kilometers_Driven       0\n",
       "Year                    0\n",
       "Location                0\n",
       "Name                    0\n",
       "dtype: int64"
      ]
     },
     "execution_count": 36,
     "metadata": {},
     "output_type": "execute_result"
    }
   ],
   "source": [
    "#checking to see missing values\n",
    "usedCD_preprocessed1.isnull().sum().sort_values(ascending=False)"
   ]
  },
  {
   "cell_type": "code",
   "execution_count": 37,
   "metadata": {},
   "outputs": [],
   "source": [
    "#For \"Mileage_in_kmpl\", there are 2 values, which we will impute with the median\n",
    "usedCD_preprocessed1['Mileage_in_kmpl'].fillna(usedCD_preprocessed1['Mileage_in_kmpl'].median(),inplace=True)"
   ]
  },
  {
   "cell_type": "code",
   "execution_count": 38,
   "metadata": {},
   "outputs": [
    {
     "data": {
      "text/plain": [
       "Price                1234\n",
       "Name_Brand              0\n",
       "New_Price_num           0\n",
       "Power_in_bhp            0\n",
       "Engine_in_CC            0\n",
       "Mileage_in_kmpl         0\n",
       "Seats                   0\n",
       "Owner_Type              0\n",
       "Transmission            0\n",
       "Fuel_Type               0\n",
       "Kilometers_Driven       0\n",
       "Year                    0\n",
       "Location                0\n",
       "Name                    0\n",
       "dtype: int64"
      ]
     },
     "execution_count": 38,
     "metadata": {},
     "output_type": "execute_result"
    }
   ],
   "source": [
    "#checking to see missing values\n",
    "usedCD_preprocessed1.isnull().sum().sort_values(ascending=False)"
   ]
  },
  {
   "cell_type": "markdown",
   "metadata": {},
   "source": [
    "#### Observations\n",
    "<p> We are left with the dependent variable, \"Price\" which has 1234 missing values.\n",
    "    Since this is a dependent variable, we will drop the observations (rows) with the missing values.\"</p>"
   ]
  },
  {
   "cell_type": "code",
   "execution_count": 39,
   "metadata": {},
   "outputs": [],
   "source": [
    "#dropping rows for dependent variable\n",
    "usedCD_preprocessed1.dropna(subset=['Price'],inplace=True)"
   ]
  },
  {
   "cell_type": "code",
   "execution_count": 40,
   "metadata": {},
   "outputs": [
    {
     "data": {
      "text/plain": [
       "Name_Brand           0\n",
       "New_Price_num        0\n",
       "Power_in_bhp         0\n",
       "Engine_in_CC         0\n",
       "Mileage_in_kmpl      0\n",
       "Price                0\n",
       "Seats                0\n",
       "Owner_Type           0\n",
       "Transmission         0\n",
       "Fuel_Type            0\n",
       "Kilometers_Driven    0\n",
       "Year                 0\n",
       "Location             0\n",
       "Name                 0\n",
       "dtype: int64"
      ]
     },
     "execution_count": 40,
     "metadata": {},
     "output_type": "execute_result"
    }
   ],
   "source": [
    "#checking to see missing values\n",
    "usedCD_preprocessed1.isnull().sum().sort_values(ascending=False)"
   ]
  },
  {
   "cell_type": "markdown",
   "metadata": {},
   "source": [
    "#### Observations\n",
    "<p> Our dataset has no missing values, and can now be used for further analysis.</p>"
   ]
  },
  {
   "cell_type": "code",
   "execution_count": 41,
   "metadata": {},
   "outputs": [
    {
     "data": {
      "text/html": [
       "<div>\n",
       "<style scoped>\n",
       "    .dataframe tbody tr th:only-of-type {\n",
       "        vertical-align: middle;\n",
       "    }\n",
       "\n",
       "    .dataframe tbody tr th {\n",
       "        vertical-align: top;\n",
       "    }\n",
       "\n",
       "    .dataframe thead th {\n",
       "        text-align: right;\n",
       "    }\n",
       "</style>\n",
       "<table border=\"1\" class=\"dataframe\">\n",
       "  <thead>\n",
       "    <tr style=\"text-align: right;\">\n",
       "      <th></th>\n",
       "      <th>count</th>\n",
       "      <th>mean</th>\n",
       "      <th>std</th>\n",
       "      <th>min</th>\n",
       "      <th>25%</th>\n",
       "      <th>50%</th>\n",
       "      <th>75%</th>\n",
       "      <th>max</th>\n",
       "    </tr>\n",
       "  </thead>\n",
       "  <tbody>\n",
       "    <tr>\n",
       "      <th>Year</th>\n",
       "      <td>6019.0</td>\n",
       "      <td>2013.358199</td>\n",
       "      <td>3.269742</td>\n",
       "      <td>1998.00</td>\n",
       "      <td>2011.00</td>\n",
       "      <td>2014.000</td>\n",
       "      <td>2016.00</td>\n",
       "      <td>2019.00</td>\n",
       "    </tr>\n",
       "    <tr>\n",
       "      <th>Kilometers_Driven</th>\n",
       "      <td>6019.0</td>\n",
       "      <td>58738.380296</td>\n",
       "      <td>91268.843206</td>\n",
       "      <td>171.00</td>\n",
       "      <td>34000.00</td>\n",
       "      <td>53000.000</td>\n",
       "      <td>73000.00</td>\n",
       "      <td>6500000.00</td>\n",
       "    </tr>\n",
       "    <tr>\n",
       "      <th>Seats</th>\n",
       "      <td>6019.0</td>\n",
       "      <td>5.277122</td>\n",
       "      <td>0.806644</td>\n",
       "      <td>0.00</td>\n",
       "      <td>5.00</td>\n",
       "      <td>5.000</td>\n",
       "      <td>5.00</td>\n",
       "      <td>10.00</td>\n",
       "    </tr>\n",
       "    <tr>\n",
       "      <th>Price</th>\n",
       "      <td>6019.0</td>\n",
       "      <td>9.479468</td>\n",
       "      <td>11.187917</td>\n",
       "      <td>0.44</td>\n",
       "      <td>3.50</td>\n",
       "      <td>5.640</td>\n",
       "      <td>9.95</td>\n",
       "      <td>160.00</td>\n",
       "    </tr>\n",
       "    <tr>\n",
       "      <th>Mileage_in_kmpl</th>\n",
       "      <td>6019.0</td>\n",
       "      <td>18.134969</td>\n",
       "      <td>4.581528</td>\n",
       "      <td>0.00</td>\n",
       "      <td>15.17</td>\n",
       "      <td>18.160</td>\n",
       "      <td>21.10</td>\n",
       "      <td>33.54</td>\n",
       "    </tr>\n",
       "    <tr>\n",
       "      <th>Engine_in_CC</th>\n",
       "      <td>6019.0</td>\n",
       "      <td>1620.431135</td>\n",
       "      <td>600.404083</td>\n",
       "      <td>72.00</td>\n",
       "      <td>1197.00</td>\n",
       "      <td>1493.000</td>\n",
       "      <td>1984.00</td>\n",
       "      <td>5998.00</td>\n",
       "    </tr>\n",
       "    <tr>\n",
       "      <th>Power_in_bhp</th>\n",
       "      <td>6019.0</td>\n",
       "      <td>112.918615</td>\n",
       "      <td>53.624857</td>\n",
       "      <td>34.20</td>\n",
       "      <td>75.00</td>\n",
       "      <td>93.700</td>\n",
       "      <td>138.10</td>\n",
       "      <td>560.00</td>\n",
       "    </tr>\n",
       "    <tr>\n",
       "      <th>New_Price_num</th>\n",
       "      <td>6019.0</td>\n",
       "      <td>19.561510</td>\n",
       "      <td>19.401280</td>\n",
       "      <td>3.91</td>\n",
       "      <td>8.16</td>\n",
       "      <td>11.105</td>\n",
       "      <td>23.25</td>\n",
       "      <td>99.92</td>\n",
       "    </tr>\n",
       "  </tbody>\n",
       "</table>\n",
       "</div>"
      ],
      "text/plain": [
       "                    count          mean           std      min       25%  \\\n",
       "Year               6019.0   2013.358199      3.269742  1998.00   2011.00   \n",
       "Kilometers_Driven  6019.0  58738.380296  91268.843206   171.00  34000.00   \n",
       "Seats              6019.0      5.277122      0.806644     0.00      5.00   \n",
       "Price              6019.0      9.479468     11.187917     0.44      3.50   \n",
       "Mileage_in_kmpl    6019.0     18.134969      4.581528     0.00     15.17   \n",
       "Engine_in_CC       6019.0   1620.431135    600.404083    72.00   1197.00   \n",
       "Power_in_bhp       6019.0    112.918615     53.624857    34.20     75.00   \n",
       "New_Price_num      6019.0     19.561510     19.401280     3.91      8.16   \n",
       "\n",
       "                         50%       75%         max  \n",
       "Year                2014.000   2016.00     2019.00  \n",
       "Kilometers_Driven  53000.000  73000.00  6500000.00  \n",
       "Seats                  5.000      5.00       10.00  \n",
       "Price                  5.640      9.95      160.00  \n",
       "Mileage_in_kmpl       18.160     21.10       33.54  \n",
       "Engine_in_CC        1493.000   1984.00     5998.00  \n",
       "Power_in_bhp          93.700    138.10      560.00  \n",
       "New_Price_num         11.105     23.25       99.92  "
      ]
     },
     "execution_count": 41,
     "metadata": {},
     "output_type": "execute_result"
    }
   ],
   "source": [
    "#summary statistics\n",
    "usedCD_preprocessed1.describe().T"
   ]
  },
  {
   "cell_type": "markdown",
   "metadata": {},
   "source": [
    "#### Observations\n",
    "<p> We can now see that engine and Power are skewed distributions, though the skewness is not extreme,\n",
    "as the mean and median values are different, but still close. </p>"
   ]
  },
  {
   "cell_type": "markdown",
   "metadata": {},
   "source": [
    "### 7. Univariate, bivariate and multivariate analysis"
   ]
  },
  {
   "cell_type": "code",
   "execution_count": 42,
   "metadata": {},
   "outputs": [
    {
     "data": {
      "image/png": "[encoded data removed]",
      "text/plain": [
       "<Figure size 432x288 with 1 Axes>"
      ]
     },
     "metadata": {
      "needs_background": "light"
     },
     "output_type": "display_data"
    },
    {
     "data": {
      "image/png": "[encoded data removed]",
      "text/plain": [
       "<Figure size 432x288 with 1 Axes>"
      ]
     },
     "metadata": {
      "needs_background": "light"
     },
     "output_type": "display_data"
    }
   ],
   "source": [
    "# Univariate analysis section\n",
    "sns.histplot(data=usedCD_preprocessed1, x='Year', kde=True);\n",
    "plt.show()#To display 2 graphs as the output of this cell\n",
    "\n",
    "#Summary Statistics on 'Price' variable with respect to 'Transmission'\n",
    "sns.boxplot(usedCD_preprocessed1['Transmission'],usedCD_preprocessed1['Price']);\n",
    "plt.show()"
   ]
  },
  {
   "cell_type": "markdown",
   "metadata": {},
   "source": [
    "### Observations: \n",
    "<ol>\n",
    "    <li>The mean and median are different for the frequency distribution of data for Year of the customer. The distribution is slightly skewed to the left (negative skew). The tail is to the left, so less number of used cars were sold during the early 2000s, while the sales picked up later.</li>\n",
    "    <li>Among the two transmission types, the mean and medians were different for manual versus automatic. There were also outliers as visible in the box plot. </li>\n"
   ]
  },
  {
   "cell_type": "code",
   "execution_count": 43,
   "metadata": {},
   "outputs": [
    {
     "name": "stdout",
     "output_type": "stream",
     "text": [
      "['Name', 'Location', 'Year', 'Kilometers_Driven', 'Fuel_Type', 'Transmission', 'Owner_Type', 'Seats', 'Price', 'Mileage_in_kmpl', 'Engine_in_CC', 'Power_in_bhp', 'New_Price_num', 'Name_Brand']\n"
     ]
    }
   ],
   "source": [
    "#Using heatmap to look at correlation between the different columns\n",
    "corr_cols = [item for item in usedCD_preprocessed1.columns]\n",
    "print(corr_cols)"
   ]
  },
  {
   "cell_type": "code",
   "execution_count": 44,
   "metadata": {},
   "outputs": [
    {
     "data": {
      "image/png": "[encoded data removed]",
      "text/plain": [
       "<Figure size 864x504 with 2 Axes>"
      ]
     },
     "metadata": {
      "needs_background": "light"
     },
     "output_type": "display_data"
    }
   ],
   "source": [
    "plt.figure(figsize=(12,7))\n",
    "sns.heatmap(usedCD_preprocessed1[corr_cols].corr(),annot=True,vmin=-1, vmax=1, fmt=\".2f\", cmap=\"Spectral\")\n",
    "plt.show()"
   ]
  },
  {
   "cell_type": "markdown",
   "metadata": {},
   "source": [
    "#### Observations\n",
    "<p> A positive correlation is seen between \"Engine_in_CC\" and \"Price\". Similarly, positive correlation is seen for \"Power_in_bhp\" and \"Price\" and \"New_Price_num\" and \"Price\". There is also a positive correlation between the engine variable and power.</p> "
   ]
  },
  {
   "cell_type": "code",
   "execution_count": 45,
   "metadata": {},
   "outputs": [],
   "source": [
    "#gathering numeric columns\n",
    "new_cols = [\n",
    "    item for item in usedCD_preprocessed1.select_dtypes(include=np.number).columns ]"
   ]
  },
  {
   "cell_type": "code",
   "execution_count": 46,
   "metadata": {},
   "outputs": [
    {
     "data": {
      "image/png": "[encoded data removed]",
      "text/plain": [
       "<Figure size 1440x2520 with 8 Axes>"
      ]
     },
     "metadata": {
      "needs_background": "light"
     },
     "output_type": "display_data"
    }
   ],
   "source": [
    "plt.figure(figsize=(20, 35))\n",
    "\n",
    "for i in range(len(new_cols)):\n",
    "    plt.subplot(12, 3, i + 1)\n",
    "    plt.hist(usedCD_preprocessed1[new_cols[i]], bins=20)\n",
    "    plt.tight_layout()\n",
    "    plt.title(new_cols[i], fontsize=20)\n",
    "\n",
    "plt.show()"
   ]
  },
  {
   "cell_type": "markdown",
   "metadata": {},
   "source": [
    "#### Observations\n",
    "<p> Mileage is a normal distribution. Year is left skewed, while price is right skewed with a large range. Engine, Power and new price are also right skewed.</p>\n",
    "<p> For better visualization, a log transformation will be appropriate for Price, engine and power and new price.</p>"
   ]
  },
  {
   "cell_type": "markdown",
   "metadata": {},
   "source": [
    "### 8. Regression Model for pricing\n",
    "<p> Our dependent variable is \"Price\". </p>"
   ]
  },
  {
   "cell_type": "code",
   "execution_count": 47,
   "metadata": {},
   "outputs": [
    {
     "name": "stdout",
     "output_type": "stream",
     "text": [
      "<class 'pandas.core.frame.DataFrame'>\n",
      "Int64Index: 6019 entries, 0 to 6018\n",
      "Data columns (total 14 columns):\n",
      " #   Column             Non-Null Count  Dtype   \n",
      "---  ------             --------------  -----   \n",
      " 0   Name               6019 non-null   object  \n",
      " 1   Location           6019 non-null   category\n",
      " 2   Year               6019 non-null   int64   \n",
      " 3   Kilometers_Driven  6019 non-null   int64   \n",
      " 4   Fuel_Type          6019 non-null   category\n",
      " 5   Transmission       6019 non-null   category\n",
      " 6   Owner_Type         6019 non-null   category\n",
      " 7   Seats              6019 non-null   float64 \n",
      " 8   Price              6019 non-null   float64 \n",
      " 9   Mileage_in_kmpl    6019 non-null   float64 \n",
      " 10  Engine_in_CC       6019 non-null   float64 \n",
      " 11  Power_in_bhp       6019 non-null   float64 \n",
      " 12  New_Price_num      6019 non-null   float64 \n",
      " 13  Name_Brand         6019 non-null   object  \n",
      "dtypes: category(4), float64(6), int64(2), object(2)\n",
      "memory usage: 701.6+ KB\n"
     ]
    }
   ],
   "source": [
    "#We will convert the object columns except Name into category variables to facilitate one hot encoding\n",
    "categorical_var = ['Location', 'Fuel_Type', 'Transmission',\n",
    "            'Owner_Type']\n",
    "\n",
    "\n",
    "for colname in categorical_var:\n",
    "    usedCD_preprocessed1[colname] = usedCD_preprocessed1[colname].astype('category')\n",
    "    \n",
    "usedCD_preprocessed1.info()"
   ]
  },
  {
   "cell_type": "code",
   "execution_count": 48,
   "metadata": {},
   "outputs": [],
   "source": [
    "independent_var = usedCD_preprocessed1.drop([\"Price\",\"Name\",\"Location\"], axis=1)# Price goes in dependent variable column\n",
    "dependent_var = usedCD_preprocessed1[[\"Price\"]]"
   ]
  },
  {
   "cell_type": "markdown",
   "metadata": {},
   "source": [
    "<p> The Name and Location columns were dropped after trial and error (not shown in the notebook to keep it short and perusable. </p>"
   ]
  },
  {
   "cell_type": "code",
   "execution_count": 49,
   "metadata": {},
   "outputs": [
    {
     "data": {
      "text/html": [
       "<div>\n",
       "<style scoped>\n",
       "    .dataframe tbody tr th:only-of-type {\n",
       "        vertical-align: middle;\n",
       "    }\n",
       "\n",
       "    .dataframe tbody tr th {\n",
       "        vertical-align: top;\n",
       "    }\n",
       "\n",
       "    .dataframe thead th {\n",
       "        text-align: right;\n",
       "    }\n",
       "</style>\n",
       "<table border=\"1\" class=\"dataframe\">\n",
       "  <thead>\n",
       "    <tr style=\"text-align: right;\">\n",
       "      <th></th>\n",
       "      <th>Year</th>\n",
       "      <th>Kilometers_Driven</th>\n",
       "      <th>Seats</th>\n",
       "      <th>Mileage_in_kmpl</th>\n",
       "      <th>Engine_in_CC</th>\n",
       "      <th>Power_in_bhp</th>\n",
       "      <th>New_Price_num</th>\n",
       "      <th>Fuel_Type_Diesel</th>\n",
       "      <th>Fuel_Type_Electric</th>\n",
       "      <th>Fuel_Type_LPG</th>\n",
       "      <th>Fuel_Type_Petrol</th>\n",
       "      <th>Transmission_Manual</th>\n",
       "      <th>Owner_Type_Fourth &amp; Above</th>\n",
       "      <th>Owner_Type_Second</th>\n",
       "      <th>Owner_Type_Third</th>\n",
       "      <th>Name_Brand_Audi</th>\n",
       "      <th>Name_Brand_BMW</th>\n",
       "      <th>Name_Brand_Bentley</th>\n",
       "      <th>Name_Brand_Chevrolet</th>\n",
       "      <th>Name_Brand_Datsun</th>\n",
       "      <th>Name_Brand_Fiat</th>\n",
       "      <th>Name_Brand_Force</th>\n",
       "      <th>Name_Brand_Ford</th>\n",
       "      <th>Name_Brand_Honda</th>\n",
       "      <th>Name_Brand_Hyundai</th>\n",
       "      <th>Name_Brand_ISUZU</th>\n",
       "      <th>Name_Brand_Isuzu</th>\n",
       "      <th>Name_Brand_Jaguar</th>\n",
       "      <th>Name_Brand_Jeep</th>\n",
       "      <th>Name_Brand_Lamborghini</th>\n",
       "      <th>Name_Brand_Land</th>\n",
       "      <th>Name_Brand_Mahindra</th>\n",
       "      <th>Name_Brand_Maruti</th>\n",
       "      <th>Name_Brand_Mercedes-Benz</th>\n",
       "      <th>Name_Brand_Mini</th>\n",
       "      <th>Name_Brand_Mitsubishi</th>\n",
       "      <th>Name_Brand_Nissan</th>\n",
       "      <th>Name_Brand_Porsche</th>\n",
       "      <th>Name_Brand_Renault</th>\n",
       "      <th>Name_Brand_Skoda</th>\n",
       "      <th>Name_Brand_Smart</th>\n",
       "      <th>Name_Brand_Tata</th>\n",
       "      <th>Name_Brand_Toyota</th>\n",
       "      <th>Name_Brand_Volkswagen</th>\n",
       "      <th>Name_Brand_Volvo</th>\n",
       "    </tr>\n",
       "    <tr>\n",
       "      <th>S.No.</th>\n",
       "      <th></th>\n",
       "      <th></th>\n",
       "      <th></th>\n",
       "      <th></th>\n",
       "      <th></th>\n",
       "      <th></th>\n",
       "      <th></th>\n",
       "      <th></th>\n",
       "      <th></th>\n",
       "      <th></th>\n",
       "      <th></th>\n",
       "      <th></th>\n",
       "      <th></th>\n",
       "      <th></th>\n",
       "      <th></th>\n",
       "      <th></th>\n",
       "      <th></th>\n",
       "      <th></th>\n",
       "      <th></th>\n",
       "      <th></th>\n",
       "      <th></th>\n",
       "      <th></th>\n",
       "      <th></th>\n",
       "      <th></th>\n",
       "      <th></th>\n",
       "      <th></th>\n",
       "      <th></th>\n",
       "      <th></th>\n",
       "      <th></th>\n",
       "      <th></th>\n",
       "      <th></th>\n",
       "      <th></th>\n",
       "      <th></th>\n",
       "      <th></th>\n",
       "      <th></th>\n",
       "      <th></th>\n",
       "      <th></th>\n",
       "      <th></th>\n",
       "      <th></th>\n",
       "      <th></th>\n",
       "      <th></th>\n",
       "      <th></th>\n",
       "      <th></th>\n",
       "      <th></th>\n",
       "      <th></th>\n",
       "    </tr>\n",
       "  </thead>\n",
       "  <tbody>\n",
       "    <tr>\n",
       "      <th>0</th>\n",
       "      <td>2010</td>\n",
       "      <td>72000</td>\n",
       "      <td>5.0</td>\n",
       "      <td>26.60</td>\n",
       "      <td>998.0</td>\n",
       "      <td>58.16</td>\n",
       "      <td>7.87</td>\n",
       "      <td>0</td>\n",
       "      <td>0</td>\n",
       "      <td>0</td>\n",
       "      <td>0</td>\n",
       "      <td>1</td>\n",
       "      <td>0</td>\n",
       "      <td>0</td>\n",
       "      <td>0</td>\n",
       "      <td>0</td>\n",
       "      <td>0</td>\n",
       "      <td>0</td>\n",
       "      <td>0</td>\n",
       "      <td>0</td>\n",
       "      <td>0</td>\n",
       "      <td>0</td>\n",
       "      <td>0</td>\n",
       "      <td>0</td>\n",
       "      <td>0</td>\n",
       "      <td>0</td>\n",
       "      <td>0</td>\n",
       "      <td>0</td>\n",
       "      <td>0</td>\n",
       "      <td>0</td>\n",
       "      <td>0</td>\n",
       "      <td>0</td>\n",
       "      <td>1</td>\n",
       "      <td>0</td>\n",
       "      <td>0</td>\n",
       "      <td>0</td>\n",
       "      <td>0</td>\n",
       "      <td>0</td>\n",
       "      <td>0</td>\n",
       "      <td>0</td>\n",
       "      <td>0</td>\n",
       "      <td>0</td>\n",
       "      <td>0</td>\n",
       "      <td>0</td>\n",
       "      <td>0</td>\n",
       "    </tr>\n",
       "    <tr>\n",
       "      <th>1</th>\n",
       "      <td>2015</td>\n",
       "      <td>41000</td>\n",
       "      <td>5.0</td>\n",
       "      <td>19.67</td>\n",
       "      <td>1582.0</td>\n",
       "      <td>126.20</td>\n",
       "      <td>9.74</td>\n",
       "      <td>1</td>\n",
       "      <td>0</td>\n",
       "      <td>0</td>\n",
       "      <td>0</td>\n",
       "      <td>1</td>\n",
       "      <td>0</td>\n",
       "      <td>0</td>\n",
       "      <td>0</td>\n",
       "      <td>0</td>\n",
       "      <td>0</td>\n",
       "      <td>0</td>\n",
       "      <td>0</td>\n",
       "      <td>0</td>\n",
       "      <td>0</td>\n",
       "      <td>0</td>\n",
       "      <td>0</td>\n",
       "      <td>0</td>\n",
       "      <td>1</td>\n",
       "      <td>0</td>\n",
       "      <td>0</td>\n",
       "      <td>0</td>\n",
       "      <td>0</td>\n",
       "      <td>0</td>\n",
       "      <td>0</td>\n",
       "      <td>0</td>\n",
       "      <td>0</td>\n",
       "      <td>0</td>\n",
       "      <td>0</td>\n",
       "      <td>0</td>\n",
       "      <td>0</td>\n",
       "      <td>0</td>\n",
       "      <td>0</td>\n",
       "      <td>0</td>\n",
       "      <td>0</td>\n",
       "      <td>0</td>\n",
       "      <td>0</td>\n",
       "      <td>0</td>\n",
       "      <td>0</td>\n",
       "    </tr>\n",
       "    <tr>\n",
       "      <th>2</th>\n",
       "      <td>2011</td>\n",
       "      <td>46000</td>\n",
       "      <td>5.0</td>\n",
       "      <td>18.20</td>\n",
       "      <td>1199.0</td>\n",
       "      <td>88.70</td>\n",
       "      <td>8.61</td>\n",
       "      <td>0</td>\n",
       "      <td>0</td>\n",
       "      <td>0</td>\n",
       "      <td>1</td>\n",
       "      <td>1</td>\n",
       "      <td>0</td>\n",
       "      <td>0</td>\n",
       "      <td>0</td>\n",
       "      <td>0</td>\n",
       "      <td>0</td>\n",
       "      <td>0</td>\n",
       "      <td>0</td>\n",
       "      <td>0</td>\n",
       "      <td>0</td>\n",
       "      <td>0</td>\n",
       "      <td>0</td>\n",
       "      <td>1</td>\n",
       "      <td>0</td>\n",
       "      <td>0</td>\n",
       "      <td>0</td>\n",
       "      <td>0</td>\n",
       "      <td>0</td>\n",
       "      <td>0</td>\n",
       "      <td>0</td>\n",
       "      <td>0</td>\n",
       "      <td>0</td>\n",
       "      <td>0</td>\n",
       "      <td>0</td>\n",
       "      <td>0</td>\n",
       "      <td>0</td>\n",
       "      <td>0</td>\n",
       "      <td>0</td>\n",
       "      <td>0</td>\n",
       "      <td>0</td>\n",
       "      <td>0</td>\n",
       "      <td>0</td>\n",
       "      <td>0</td>\n",
       "      <td>0</td>\n",
       "    </tr>\n",
       "    <tr>\n",
       "      <th>3</th>\n",
       "      <td>2012</td>\n",
       "      <td>87000</td>\n",
       "      <td>7.0</td>\n",
       "      <td>20.77</td>\n",
       "      <td>1248.0</td>\n",
       "      <td>88.76</td>\n",
       "      <td>7.87</td>\n",
       "      <td>1</td>\n",
       "      <td>0</td>\n",
       "      <td>0</td>\n",
       "      <td>0</td>\n",
       "      <td>1</td>\n",
       "      <td>0</td>\n",
       "      <td>0</td>\n",
       "      <td>0</td>\n",
       "      <td>0</td>\n",
       "      <td>0</td>\n",
       "      <td>0</td>\n",
       "      <td>0</td>\n",
       "      <td>0</td>\n",
       "      <td>0</td>\n",
       "      <td>0</td>\n",
       "      <td>0</td>\n",
       "      <td>0</td>\n",
       "      <td>0</td>\n",
       "      <td>0</td>\n",
       "      <td>0</td>\n",
       "      <td>0</td>\n",
       "      <td>0</td>\n",
       "      <td>0</td>\n",
       "      <td>0</td>\n",
       "      <td>0</td>\n",
       "      <td>1</td>\n",
       "      <td>0</td>\n",
       "      <td>0</td>\n",
       "      <td>0</td>\n",
       "      <td>0</td>\n",
       "      <td>0</td>\n",
       "      <td>0</td>\n",
       "      <td>0</td>\n",
       "      <td>0</td>\n",
       "      <td>0</td>\n",
       "      <td>0</td>\n",
       "      <td>0</td>\n",
       "      <td>0</td>\n",
       "    </tr>\n",
       "    <tr>\n",
       "      <th>4</th>\n",
       "      <td>2013</td>\n",
       "      <td>40670</td>\n",
       "      <td>5.0</td>\n",
       "      <td>15.20</td>\n",
       "      <td>1968.0</td>\n",
       "      <td>140.80</td>\n",
       "      <td>53.14</td>\n",
       "      <td>1</td>\n",
       "      <td>0</td>\n",
       "      <td>0</td>\n",
       "      <td>0</td>\n",
       "      <td>0</td>\n",
       "      <td>0</td>\n",
       "      <td>1</td>\n",
       "      <td>0</td>\n",
       "      <td>1</td>\n",
       "      <td>0</td>\n",
       "      <td>0</td>\n",
       "      <td>0</td>\n",
       "      <td>0</td>\n",
       "      <td>0</td>\n",
       "      <td>0</td>\n",
       "      <td>0</td>\n",
       "      <td>0</td>\n",
       "      <td>0</td>\n",
       "      <td>0</td>\n",
       "      <td>0</td>\n",
       "      <td>0</td>\n",
       "      <td>0</td>\n",
       "      <td>0</td>\n",
       "      <td>0</td>\n",
       "      <td>0</td>\n",
       "      <td>0</td>\n",
       "      <td>0</td>\n",
       "      <td>0</td>\n",
       "      <td>0</td>\n",
       "      <td>0</td>\n",
       "      <td>0</td>\n",
       "      <td>0</td>\n",
       "      <td>0</td>\n",
       "      <td>0</td>\n",
       "      <td>0</td>\n",
       "      <td>0</td>\n",
       "      <td>0</td>\n",
       "      <td>0</td>\n",
       "    </tr>\n",
       "  </tbody>\n",
       "</table>\n",
       "</div>"
      ],
      "text/plain": [
       "       Year  Kilometers_Driven  Seats  Mileage_in_kmpl  Engine_in_CC  \\\n",
       "S.No.                                                                  \n",
       "0      2010              72000    5.0            26.60         998.0   \n",
       "1      2015              41000    5.0            19.67        1582.0   \n",
       "2      2011              46000    5.0            18.20        1199.0   \n",
       "3      2012              87000    7.0            20.77        1248.0   \n",
       "4      2013              40670    5.0            15.20        1968.0   \n",
       "\n",
       "       Power_in_bhp  New_Price_num  Fuel_Type_Diesel  Fuel_Type_Electric  \\\n",
       "S.No.                                                                      \n",
       "0             58.16           7.87                 0                   0   \n",
       "1            126.20           9.74                 1                   0   \n",
       "2             88.70           8.61                 0                   0   \n",
       "3             88.76           7.87                 1                   0   \n",
       "4            140.80          53.14                 1                   0   \n",
       "\n",
       "       Fuel_Type_LPG  Fuel_Type_Petrol  Transmission_Manual  \\\n",
       "S.No.                                                         \n",
       "0                  0                 0                    1   \n",
       "1                  0                 0                    1   \n",
       "2                  0                 1                    1   \n",
       "3                  0                 0                    1   \n",
       "4                  0                 0                    0   \n",
       "\n",
       "       Owner_Type_Fourth & Above  Owner_Type_Second  Owner_Type_Third  \\\n",
       "S.No.                                                                   \n",
       "0                              0                  0                 0   \n",
       "1                              0                  0                 0   \n",
       "2                              0                  0                 0   \n",
       "3                              0                  0                 0   \n",
       "4                              0                  1                 0   \n",
       "\n",
       "       Name_Brand_Audi  Name_Brand_BMW  Name_Brand_Bentley  \\\n",
       "S.No.                                                        \n",
       "0                    0               0                   0   \n",
       "1                    0               0                   0   \n",
       "2                    0               0                   0   \n",
       "3                    0               0                   0   \n",
       "4                    1               0                   0   \n",
       "\n",
       "       Name_Brand_Chevrolet  Name_Brand_Datsun  Name_Brand_Fiat  \\\n",
       "S.No.                                                             \n",
       "0                         0                  0                0   \n",
       "1                         0                  0                0   \n",
       "2                         0                  0                0   \n",
       "3                         0                  0                0   \n",
       "4                         0                  0                0   \n",
       "\n",
       "       Name_Brand_Force  Name_Brand_Ford  Name_Brand_Honda  \\\n",
       "S.No.                                                        \n",
       "0                     0                0                 0   \n",
       "1                     0                0                 0   \n",
       "2                     0                0                 1   \n",
       "3                     0                0                 0   \n",
       "4                     0                0                 0   \n",
       "\n",
       "       Name_Brand_Hyundai  Name_Brand_ISUZU  Name_Brand_Isuzu  \\\n",
       "S.No.                                                           \n",
       "0                       0                 0                 0   \n",
       "1                       1                 0                 0   \n",
       "2                       0                 0                 0   \n",
       "3                       0                 0                 0   \n",
       "4                       0                 0                 0   \n",
       "\n",
       "       Name_Brand_Jaguar  Name_Brand_Jeep  Name_Brand_Lamborghini  \\\n",
       "S.No.                                                               \n",
       "0                      0                0                       0   \n",
       "1                      0                0                       0   \n",
       "2                      0                0                       0   \n",
       "3                      0                0                       0   \n",
       "4                      0                0                       0   \n",
       "\n",
       "       Name_Brand_Land  Name_Brand_Mahindra  Name_Brand_Maruti  \\\n",
       "S.No.                                                            \n",
       "0                    0                    0                  1   \n",
       "1                    0                    0                  0   \n",
       "2                    0                    0                  0   \n",
       "3                    0                    0                  1   \n",
       "4                    0                    0                  0   \n",
       "\n",
       "       Name_Brand_Mercedes-Benz  Name_Brand_Mini  Name_Brand_Mitsubishi  \\\n",
       "S.No.                                                                     \n",
       "0                             0                0                      0   \n",
       "1                             0                0                      0   \n",
       "2                             0                0                      0   \n",
       "3                             0                0                      0   \n",
       "4                             0                0                      0   \n",
       "\n",
       "       Name_Brand_Nissan  Name_Brand_Porsche  Name_Brand_Renault  \\\n",
       "S.No.                                                              \n",
       "0                      0                   0                   0   \n",
       "1                      0                   0                   0   \n",
       "2                      0                   0                   0   \n",
       "3                      0                   0                   0   \n",
       "4                      0                   0                   0   \n",
       "\n",
       "       Name_Brand_Skoda  Name_Brand_Smart  Name_Brand_Tata  Name_Brand_Toyota  \\\n",
       "S.No.                                                                           \n",
       "0                     0                 0                0                  0   \n",
       "1                     0                 0                0                  0   \n",
       "2                     0                 0                0                  0   \n",
       "3                     0                 0                0                  0   \n",
       "4                     0                 0                0                  0   \n",
       "\n",
       "       Name_Brand_Volkswagen  Name_Brand_Volvo  \n",
       "S.No.                                           \n",
       "0                          0                 0  \n",
       "1                          0                 0  \n",
       "2                          0                 0  \n",
       "3                          0                 0  \n",
       "4                          0                 0  "
      ]
     },
     "execution_count": 49,
     "metadata": {},
     "output_type": "execute_result"
    }
   ],
   "source": [
    "#Encoding the categorical variable using dummy variables\n",
    "def encode_cat_vars(x):\n",
    "    x = pd.get_dummies(\n",
    "        x,\n",
    "        columns=x.select_dtypes(include=[\"object\", \"category\"]).columns.tolist(),\n",
    "        drop_first=True,\n",
    "    )\n",
    "    return x\n",
    "\n",
    "\n",
    "independent_var_num = encode_cat_vars(independent_var)\n",
    "independent_var_num.head()"
   ]
  },
  {
   "cell_type": "code",
   "execution_count": 50,
   "metadata": {},
   "outputs": [
    {
     "data": {
      "text/plain": [
       "(6019, 45)"
      ]
     },
     "execution_count": 50,
     "metadata": {},
     "output_type": "execute_result"
    }
   ],
   "source": [
    "independent_var_num.shape"
   ]
  },
  {
   "cell_type": "markdown",
   "metadata": {},
   "source": [
    "<p> There are 6019 rows and 1935 columns because all the categorical columns and their different types got encoded into a column.</p>"
   ]
  },
  {
   "cell_type": "code",
   "execution_count": 51,
   "metadata": {},
   "outputs": [],
   "source": [
    "# Splitting the data into training and testing sets\n",
    "\n",
    "x_train, x_test, y_train, y_test = train_test_split(\n",
    "    independent_var_num, dependent_var, test_size=0.3, random_state=1\n",
    ")"
   ]
  },
  {
   "cell_type": "code",
   "execution_count": 52,
   "metadata": {},
   "outputs": [
    {
     "name": "stdout",
     "output_type": "stream",
     "text": [
      "Number of rows in train data = 4213\n",
      "Number of rows in test data = 1806\n"
     ]
    }
   ],
   "source": [
    "print(\"Number of rows in train data =\", x_train.shape[0])\n",
    "print(\"Number of rows in test data =\", x_test.shape[0])"
   ]
  },
  {
   "cell_type": "code",
   "execution_count": 53,
   "metadata": {},
   "outputs": [
    {
     "data": {
      "text/plain": [
       "LinearRegression()"
      ]
     },
     "execution_count": 53,
     "metadata": {},
     "output_type": "execute_result"
    }
   ],
   "source": [
    "from sklearn.linear_model import LinearRegression\n",
    "#Building the regression model\n",
    "lin_reg_model = LinearRegression()\n",
    "lin_reg_model.fit(x_train, y_train)"
   ]
  },
  {
   "cell_type": "code",
   "execution_count": 54,
   "metadata": {},
   "outputs": [
    {
     "data": {
      "text/html": [
       "<div>\n",
       "<style scoped>\n",
       "    .dataframe tbody tr th:only-of-type {\n",
       "        vertical-align: middle;\n",
       "    }\n",
       "\n",
       "    .dataframe tbody tr th {\n",
       "        vertical-align: top;\n",
       "    }\n",
       "\n",
       "    .dataframe thead th {\n",
       "        text-align: right;\n",
       "    }\n",
       "</style>\n",
       "<table border=\"1\" class=\"dataframe\">\n",
       "  <thead>\n",
       "    <tr style=\"text-align: right;\">\n",
       "      <th></th>\n",
       "      <th>Coefficients</th>\n",
       "    </tr>\n",
       "  </thead>\n",
       "  <tbody>\n",
       "    <tr>\n",
       "      <th>Year</th>\n",
       "      <td>9.406607e-01</td>\n",
       "    </tr>\n",
       "    <tr>\n",
       "      <th>Kilometers_Driven</th>\n",
       "      <td>-1.671306e-05</td>\n",
       "    </tr>\n",
       "    <tr>\n",
       "      <th>Seats</th>\n",
       "      <td>8.744788e-02</td>\n",
       "    </tr>\n",
       "    <tr>\n",
       "      <th>Mileage_in_kmpl</th>\n",
       "      <td>-1.092441e-01</td>\n",
       "    </tr>\n",
       "    <tr>\n",
       "      <th>Engine_in_CC</th>\n",
       "      <td>1.714071e-03</td>\n",
       "    </tr>\n",
       "    <tr>\n",
       "      <th>Power_in_bhp</th>\n",
       "      <td>7.806797e-02</td>\n",
       "    </tr>\n",
       "    <tr>\n",
       "      <th>New_Price_num</th>\n",
       "      <td>3.580863e-01</td>\n",
       "    </tr>\n",
       "    <tr>\n",
       "      <th>Fuel_Type_Diesel</th>\n",
       "      <td>7.085144e-01</td>\n",
       "    </tr>\n",
       "    <tr>\n",
       "      <th>Fuel_Type_Electric</th>\n",
       "      <td>8.893304e+00</td>\n",
       "    </tr>\n",
       "    <tr>\n",
       "      <th>Fuel_Type_LPG</th>\n",
       "      <td>2.334704e+00</td>\n",
       "    </tr>\n",
       "    <tr>\n",
       "      <th>Fuel_Type_Petrol</th>\n",
       "      <td>-3.913812e-01</td>\n",
       "    </tr>\n",
       "    <tr>\n",
       "      <th>Transmission_Manual</th>\n",
       "      <td>3.029601e-01</td>\n",
       "    </tr>\n",
       "    <tr>\n",
       "      <th>Owner_Type_Fourth &amp; Above</th>\n",
       "      <td>5.544760e-01</td>\n",
       "    </tr>\n",
       "    <tr>\n",
       "      <th>Owner_Type_Second</th>\n",
       "      <td>-2.554798e-01</td>\n",
       "    </tr>\n",
       "    <tr>\n",
       "      <th>Owner_Type_Third</th>\n",
       "      <td>6.344601e-01</td>\n",
       "    </tr>\n",
       "    <tr>\n",
       "      <th>Name_Brand_Audi</th>\n",
       "      <td>-1.375371e+01</td>\n",
       "    </tr>\n",
       "    <tr>\n",
       "      <th>Name_Brand_BMW</th>\n",
       "      <td>-1.619104e+01</td>\n",
       "    </tr>\n",
       "    <tr>\n",
       "      <th>Name_Brand_Bentley</th>\n",
       "      <td>7.908288e+00</td>\n",
       "    </tr>\n",
       "    <tr>\n",
       "      <th>Name_Brand_Chevrolet</th>\n",
       "      <td>-8.953874e+00</td>\n",
       "    </tr>\n",
       "    <tr>\n",
       "      <th>Name_Brand_Datsun</th>\n",
       "      <td>-7.948489e+00</td>\n",
       "    </tr>\n",
       "    <tr>\n",
       "      <th>Name_Brand_Fiat</th>\n",
       "      <td>-8.169236e+00</td>\n",
       "    </tr>\n",
       "    <tr>\n",
       "      <th>Name_Brand_Force</th>\n",
       "      <td>-1.061363e+01</td>\n",
       "    </tr>\n",
       "    <tr>\n",
       "      <th>Name_Brand_Ford</th>\n",
       "      <td>-7.833142e+00</td>\n",
       "    </tr>\n",
       "    <tr>\n",
       "      <th>Name_Brand_Honda</th>\n",
       "      <td>-9.401740e+00</td>\n",
       "    </tr>\n",
       "    <tr>\n",
       "      <th>Name_Brand_Hyundai</th>\n",
       "      <td>-7.906441e+00</td>\n",
       "    </tr>\n",
       "    <tr>\n",
       "      <th>Name_Brand_ISUZU</th>\n",
       "      <td>-1.626861e+01</td>\n",
       "    </tr>\n",
       "    <tr>\n",
       "      <th>Name_Brand_Isuzu</th>\n",
       "      <td>3.552714e-15</td>\n",
       "    </tr>\n",
       "    <tr>\n",
       "      <th>Name_Brand_Jaguar</th>\n",
       "      <td>-7.402595e+00</td>\n",
       "    </tr>\n",
       "    <tr>\n",
       "      <th>Name_Brand_Jeep</th>\n",
       "      <td>-1.181985e+01</td>\n",
       "    </tr>\n",
       "    <tr>\n",
       "      <th>Name_Brand_Lamborghini</th>\n",
       "      <td>6.354792e+01</td>\n",
       "    </tr>\n",
       "    <tr>\n",
       "      <th>Name_Brand_Land</th>\n",
       "      <td>-8.096407e+00</td>\n",
       "    </tr>\n",
       "    <tr>\n",
       "      <th>Name_Brand_Mahindra</th>\n",
       "      <td>-1.060843e+01</td>\n",
       "    </tr>\n",
       "    <tr>\n",
       "      <th>Name_Brand_Maruti</th>\n",
       "      <td>-6.062719e+00</td>\n",
       "    </tr>\n",
       "    <tr>\n",
       "      <th>Name_Brand_Mercedes-Benz</th>\n",
       "      <td>-1.900886e+01</td>\n",
       "    </tr>\n",
       "    <tr>\n",
       "      <th>Name_Brand_Mini</th>\n",
       "      <td>-3.885357e+00</td>\n",
       "    </tr>\n",
       "    <tr>\n",
       "      <th>Name_Brand_Mitsubishi</th>\n",
       "      <td>-1.501455e+01</td>\n",
       "    </tr>\n",
       "    <tr>\n",
       "      <th>Name_Brand_Nissan</th>\n",
       "      <td>-8.244759e+00</td>\n",
       "    </tr>\n",
       "    <tr>\n",
       "      <th>Name_Brand_Porsche</th>\n",
       "      <td>7.012893e+00</td>\n",
       "    </tr>\n",
       "    <tr>\n",
       "      <th>Name_Brand_Renault</th>\n",
       "      <td>-6.866784e+00</td>\n",
       "    </tr>\n",
       "    <tr>\n",
       "      <th>Name_Brand_Skoda</th>\n",
       "      <td>-1.564959e+01</td>\n",
       "    </tr>\n",
       "    <tr>\n",
       "      <th>Name_Brand_Smart</th>\n",
       "      <td>-5.972831e+00</td>\n",
       "    </tr>\n",
       "    <tr>\n",
       "      <th>Name_Brand_Tata</th>\n",
       "      <td>-8.012021e+00</td>\n",
       "    </tr>\n",
       "    <tr>\n",
       "      <th>Name_Brand_Toyota</th>\n",
       "      <td>-1.119493e+01</td>\n",
       "    </tr>\n",
       "    <tr>\n",
       "      <th>Name_Brand_Volkswagen</th>\n",
       "      <td>-9.131688e+00</td>\n",
       "    </tr>\n",
       "    <tr>\n",
       "      <th>Name_Brand_Volvo</th>\n",
       "      <td>-1.638416e+01</td>\n",
       "    </tr>\n",
       "    <tr>\n",
       "      <th>Intercept</th>\n",
       "      <td>-1.891441e+03</td>\n",
       "    </tr>\n",
       "  </tbody>\n",
       "</table>\n",
       "</div>"
      ],
      "text/plain": [
       "                           Coefficients\n",
       "Year                       9.406607e-01\n",
       "Kilometers_Driven         -1.671306e-05\n",
       "Seats                      8.744788e-02\n",
       "Mileage_in_kmpl           -1.092441e-01\n",
       "Engine_in_CC               1.714071e-03\n",
       "Power_in_bhp               7.806797e-02\n",
       "New_Price_num              3.580863e-01\n",
       "Fuel_Type_Diesel           7.085144e-01\n",
       "Fuel_Type_Electric         8.893304e+00\n",
       "Fuel_Type_LPG              2.334704e+00\n",
       "Fuel_Type_Petrol          -3.913812e-01\n",
       "Transmission_Manual        3.029601e-01\n",
       "Owner_Type_Fourth & Above  5.544760e-01\n",
       "Owner_Type_Second         -2.554798e-01\n",
       "Owner_Type_Third           6.344601e-01\n",
       "Name_Brand_Audi           -1.375371e+01\n",
       "Name_Brand_BMW            -1.619104e+01\n",
       "Name_Brand_Bentley         7.908288e+00\n",
       "Name_Brand_Chevrolet      -8.953874e+00\n",
       "Name_Brand_Datsun         -7.948489e+00\n",
       "Name_Brand_Fiat           -8.169236e+00\n",
       "Name_Brand_Force          -1.061363e+01\n",
       "Name_Brand_Ford           -7.833142e+00\n",
       "Name_Brand_Honda          -9.401740e+00\n",
       "Name_Brand_Hyundai        -7.906441e+00\n",
       "Name_Brand_ISUZU          -1.626861e+01\n",
       "Name_Brand_Isuzu           3.552714e-15\n",
       "Name_Brand_Jaguar         -7.402595e+00\n",
       "Name_Brand_Jeep           -1.181985e+01\n",
       "Name_Brand_Lamborghini     6.354792e+01\n",
       "Name_Brand_Land           -8.096407e+00\n",
       "Name_Brand_Mahindra       -1.060843e+01\n",
       "Name_Brand_Maruti         -6.062719e+00\n",
       "Name_Brand_Mercedes-Benz  -1.900886e+01\n",
       "Name_Brand_Mini           -3.885357e+00\n",
       "Name_Brand_Mitsubishi     -1.501455e+01\n",
       "Name_Brand_Nissan         -8.244759e+00\n",
       "Name_Brand_Porsche         7.012893e+00\n",
       "Name_Brand_Renault        -6.866784e+00\n",
       "Name_Brand_Skoda          -1.564959e+01\n",
       "Name_Brand_Smart          -5.972831e+00\n",
       "Name_Brand_Tata           -8.012021e+00\n",
       "Name_Brand_Toyota         -1.119493e+01\n",
       "Name_Brand_Volkswagen     -9.131688e+00\n",
       "Name_Brand_Volvo          -1.638416e+01\n",
       "Intercept                 -1.891441e+03"
      ]
     },
     "execution_count": 54,
     "metadata": {},
     "output_type": "execute_result"
    }
   ],
   "source": [
    "#Get the coefficients and intercept\n",
    "coef_num = pd.DataFrame(\n",
    "    np.append(lin_reg_model.coef_.flatten(), lin_reg_model.intercept_),\n",
    "    index=x_train.columns.tolist() + [\"Intercept\"],\n",
    "    columns=[\"Coefficients\"],\n",
    ")\n",
    "#print(coef_df,'.8f')\n",
    "coef_num"
   ]
  },
  {
   "cell_type": "code",
   "execution_count": 55,
   "metadata": {},
   "outputs": [],
   "source": [
    "#This function is used to calculate the RMSE, MAS, R2 and the adjusted R2\n",
    "def adj_r2(ind_vars, targets, predictions):\n",
    "    r2 = r2_score(targets, predictions)\n",
    "    n = independent_var.shape[0]\n",
    "    k = independent_var.shape[1]\n",
    "    return 1 - ((1 - r2) * (n - 1) / (n - k - 1))\n",
    "\n",
    "\n",
    "# Model performance check\n",
    "def model_perf(model, inp, out):\n",
    "\n",
    "    y_pred = model.predict(inp)\n",
    "    y_act = out.values\n",
    "\n",
    "    return pd.DataFrame(\n",
    "        {\n",
    "            \"RMSE\": np.sqrt(mean_squared_error(y_act, y_pred)),\n",
    "            \"MAE\": mean_absolute_error(y_act, y_pred),\n",
    "            \"R^2\": r2_score(y_act, y_pred),\n",
    "            \"Adjusted R^2\": adj_r2(inp, y_act, y_pred),\n",
    "        },\n",
    "        index=[0],\n",
    "    )"
   ]
  },
  {
   "cell_type": "code",
   "execution_count": 56,
   "metadata": {},
   "outputs": [
    {
     "name": "stdout",
     "output_type": "stream",
     "text": [
      "Training Performance\n",
      "\n",
      "       RMSE       MAE       R^2  Adjusted R^2\n",
      "0  5.508449  3.019505  0.762699      0.762265\n",
      "\n",
      "\n",
      "Test Performance\n",
      "\n",
      "       RMSE       MAE       R^2  Adjusted R^2\n",
      "0  5.687338  2.887529  0.727624      0.727125\n"
     ]
    }
   ],
   "source": [
    "# Checking model performance on train set\n",
    "print(\"Training Performance\\n\")\n",
    "print(model_perf(lin_reg_model, x_train, y_train))\n",
    "\n",
    "# Checking model performance on test set\n",
    "print(\"\\n\\nTest Performance\\n\")\n",
    "print(model_perf(lin_reg_model, x_test, y_test))"
   ]
  },
  {
   "cell_type": "markdown",
   "metadata": {},
   "source": [
    "#### Observations\n",
    "<ol>\n",
    "    <li> Some of the coefficients are positive, but some are also negative.</li>\n",
    "    <li> Engine, Power, New Price, Year are all positively correlated (as was seen in the heatmap too. </li>\n",
    "    <li> The train and test R2 are 0.76 and 0.73 (approximately).</li>\n",
    "    <li> The above R2 values show that the regression model explains 76% of the data for the \n",
    "        training set, and 72% for the testing set.</li>\n",
    "    <li> RMSE values are comparable, as are the MAE, and R2 and Adjusted R2 </li>\n",
    "    <li> Thus, dropping the Name and Location columns resulted in a model that was reasonble\n",
    "        in terms of regression metrics.</li>\n",
    "    <li> The model can definitely still be improved - better imputation, feature engineering - may result in a model with a better train and test R2. </li>"
   ]
  },
  {
   "cell_type": "markdown",
   "metadata": {},
   "source": [
    "### Insights and Recommendations\n",
    "<p> The company should not focus on where it is selling the used cars, or factor in location in its pricing schedule as it would not give a huge benefit. The above model can be used for prediction of used car prices to a reasonable extent based on whether customers want a sedan, or van, or a particular engine type. The price is correlated with engine, power and price of a new car of the same model, so these factors should be given weightage when deciding the price of a used car.</p>"
   ]
  },
  {
   "cell_type": "code",
   "execution_count": null,
   "metadata": {},
   "outputs": [],
   "source": []
  }
 ],
 "metadata": {
  "kernelspec": {
   "display_name": "Python 3",
   "language": "python",
   "name": "python3"
  },
  "language_info": {
   "codemirror_mode": {
    "name": "ipython",
    "version": 3
   },
   "file_extension": ".py",
   "mimetype": "text/x-python",
   "name": "python",
   "nbconvert_exporter": "python",
   "pygments_lexer": "ipython3",
   "version": "3.8.5"
  }
 },
 "nbformat": 4,
 "nbformat_minor": 4
}
